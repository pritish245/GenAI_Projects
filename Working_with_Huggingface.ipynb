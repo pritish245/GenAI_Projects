{
 "cells": [
  {
   "cell_type": "markdown",
   "metadata": {
    "id": "knvKMneiKJ2H"
   },
   "source": [
    "## Introduction to Huggingface\n",
    "\n",
    "[Huggingface](https://huggingface.co/) is one of the most popular library for Natural Language Processing (NLP). It has revolutionized the field of Artificial Intelligence(AI) by providing a platform through which anyone can access the latest models in each of the domain like Computer vision, Natural Language Processing, Audio, etc.\n",
    "\n",
    "\n",
    "### Why it's one of the most popular platform?\n",
    "\n",
    "Before Huggingface, research in NLP was conducted in silos, and it was difficult for the community to access any of the latest models from the [hub](https://huggingface.co/models). Therefore, Huggingface has **democratized the research by giving users direct access to state-of-the-art models**. With its simple and intuitive API, Huggingface has made it easier than ever for researchers and developers to incorporate NLP models into their applications.\n",
    "Using its platform, you can easily download any model, fine-tune it, and create models for your custom task.\n",
    "\n",
    "\n",
    "### What's this notebook about?\n",
    "One of the most disruptive and innovative architecture in NLP is Transformer. A type of neural network architecture that has achieved state-of-the-art performance in many NLP tasks. Huggingface provides pre-trained transformer models that can be fine-tuned on specific tasks, as well as tools for training custom transformer models from scratch.\n",
    "\n",
    "\n",
    "**Learning Objectives**:\n",
    "> In this notebook:\n",
    "1. You will explore the different features and functionalities of the Huggingface library.\n",
    "2. You will look into the different pipelines and demonstrate how to use them for NLP tasks like sentiment analysis, text generation & named entity recognition.\n",
    "3. You will learn how to load a pre-trained transformer model to perform any NLP task.\n",
    "4. You will dissect the pipeline feature of Huggingface and customise it to process any input sentence.\n",
    "\n",
    "\n",
    "*So let's start our journey"
   ]
  },
  {
   "cell_type": "markdown",
   "metadata": {
    "id": "29nVVrGdKJ2Q"
   },
   "source": [
    "## Task 0: Installing the transformers\n",
    "\n",
    "To use Huggingface, you need to install the transformers library. You can do this by running the following command in your Colab notebook:"
   ]
  },
  {
   "cell_type": "code",
   "execution_count": null,
   "metadata": {
    "colab": {
     "base_uri": "https://localhost:8080/"
    },
    "id": "gnzmEmZBKJ2T",
    "outputId": "c3f82363-8604-4fd6-fe0c-eb55efe18477"
   },
   "outputs": [
    {
     "name": "stdout",
     "output_type": "stream",
     "text": [
      "Requirement already satisfied: transformers in /usr/local/lib/python3.10/dist-packages (4.46.2)\n",
      "Requirement already satisfied: filelock in /usr/local/lib/python3.10/dist-packages (from transformers) (3.16.1)\n",
      "Requirement already satisfied: huggingface-hub<1.0,>=0.23.2 in /usr/local/lib/python3.10/dist-packages (from transformers) (0.26.2)\n",
      "Requirement already satisfied: numpy>=1.17 in /usr/local/lib/python3.10/dist-packages (from transformers) (1.26.4)\n",
      "Requirement already satisfied: packaging>=20.0 in /usr/local/lib/python3.10/dist-packages (from transformers) (24.2)\n",
      "Requirement already satisfied: pyyaml>=5.1 in /usr/local/lib/python3.10/dist-packages (from transformers) (6.0.2)\n",
      "Requirement already satisfied: regex!=2019.12.17 in /usr/local/lib/python3.10/dist-packages (from transformers) (2024.9.11)\n",
      "Requirement already satisfied: requests in /usr/local/lib/python3.10/dist-packages (from transformers) (2.32.3)\n",
      "Requirement already satisfied: safetensors>=0.4.1 in /usr/local/lib/python3.10/dist-packages (from transformers) (0.4.5)\n",
      "Requirement already satisfied: tokenizers<0.21,>=0.20 in /usr/local/lib/python3.10/dist-packages (from transformers) (0.20.3)\n",
      "Requirement already satisfied: tqdm>=4.27 in /usr/local/lib/python3.10/dist-packages (from transformers) (4.66.6)\n",
      "Requirement already satisfied: fsspec>=2023.5.0 in /usr/local/lib/python3.10/dist-packages (from huggingface-hub<1.0,>=0.23.2->transformers) (2024.10.0)\n",
      "Requirement already satisfied: typing-extensions>=3.7.4.3 in /usr/local/lib/python3.10/dist-packages (from huggingface-hub<1.0,>=0.23.2->transformers) (4.12.2)\n",
      "Requirement already satisfied: charset-normalizer<4,>=2 in /usr/local/lib/python3.10/dist-packages (from requests->transformers) (3.4.0)\n",
      "Requirement already satisfied: idna<4,>=2.5 in /usr/local/lib/python3.10/dist-packages (from requests->transformers) (3.10)\n",
      "Requirement already satisfied: urllib3<3,>=1.21.1 in /usr/local/lib/python3.10/dist-packages (from requests->transformers) (2.2.3)\n",
      "Requirement already satisfied: certifi>=2017.4.17 in /usr/local/lib/python3.10/dist-packages (from requests->transformers) (2024.8.30)\n"
     ]
    }
   ],
   "source": [
    "!pip install transformers"
   ]
  },
  {
   "cell_type": "code",
   "execution_count": null,
   "metadata": {
    "colab": {
     "base_uri": "https://localhost:8080/"
    },
    "id": "E8ralwfWQ5fZ",
    "outputId": "84ab863f-c7d5-481a-e9fa-93c5872767c1"
   },
   "outputs": [
    {
     "name": "stdout",
     "output_type": "stream",
     "text": [
      "Requirement already satisfied: tensorflow in /usr/local/lib/python3.10/dist-packages (2.17.0)\n",
      "Requirement already satisfied: absl-py>=1.0.0 in /usr/local/lib/python3.10/dist-packages (from tensorflow) (1.4.0)\n",
      "Requirement already satisfied: astunparse>=1.6.0 in /usr/local/lib/python3.10/dist-packages (from tensorflow) (1.6.3)\n",
      "Requirement already satisfied: flatbuffers>=24.3.25 in /usr/local/lib/python3.10/dist-packages (from tensorflow) (24.3.25)\n",
      "Requirement already satisfied: gast!=0.5.0,!=0.5.1,!=0.5.2,>=0.2.1 in /usr/local/lib/python3.10/dist-packages (from tensorflow) (0.6.0)\n",
      "Requirement already satisfied: google-pasta>=0.1.1 in /usr/local/lib/python3.10/dist-packages (from tensorflow) (0.2.0)\n",
      "Requirement already satisfied: h5py>=3.10.0 in /usr/local/lib/python3.10/dist-packages (from tensorflow) (3.12.1)\n",
      "Requirement already satisfied: libclang>=13.0.0 in /usr/local/lib/python3.10/dist-packages (from tensorflow) (18.1.1)\n",
      "Requirement already satisfied: ml-dtypes<0.5.0,>=0.3.1 in /usr/local/lib/python3.10/dist-packages (from tensorflow) (0.4.1)\n",
      "Requirement already satisfied: opt-einsum>=2.3.2 in /usr/local/lib/python3.10/dist-packages (from tensorflow) (3.4.0)\n",
      "Requirement already satisfied: packaging in /usr/local/lib/python3.10/dist-packages (from tensorflow) (24.2)\n",
      "Requirement already satisfied: protobuf!=4.21.0,!=4.21.1,!=4.21.2,!=4.21.3,!=4.21.4,!=4.21.5,<5.0.0dev,>=3.20.3 in /usr/local/lib/python3.10/dist-packages (from tensorflow) (4.25.5)\n",
      "Requirement already satisfied: requests<3,>=2.21.0 in /usr/local/lib/python3.10/dist-packages (from tensorflow) (2.32.3)\n",
      "Requirement already satisfied: setuptools in /usr/local/lib/python3.10/dist-packages (from tensorflow) (75.1.0)\n",
      "Requirement already satisfied: six>=1.12.0 in /usr/local/lib/python3.10/dist-packages (from tensorflow) (1.16.0)\n",
      "Requirement already satisfied: termcolor>=1.1.0 in /usr/local/lib/python3.10/dist-packages (from tensorflow) (2.5.0)\n",
      "Requirement already satisfied: typing-extensions>=3.6.6 in /usr/local/lib/python3.10/dist-packages (from tensorflow) (4.12.2)\n",
      "Requirement already satisfied: wrapt>=1.11.0 in /usr/local/lib/python3.10/dist-packages (from tensorflow) (1.16.0)\n",
      "Requirement already satisfied: grpcio<2.0,>=1.24.3 in /usr/local/lib/python3.10/dist-packages (from tensorflow) (1.67.1)\n",
      "Requirement already satisfied: tensorboard<2.18,>=2.17 in /usr/local/lib/python3.10/dist-packages (from tensorflow) (2.17.0)\n",
      "Requirement already satisfied: keras>=3.2.0 in /usr/local/lib/python3.10/dist-packages (from tensorflow) (3.4.1)\n",
      "Requirement already satisfied: tensorflow-io-gcs-filesystem>=0.23.1 in /usr/local/lib/python3.10/dist-packages (from tensorflow) (0.37.1)\n",
      "Requirement already satisfied: numpy<2.0.0,>=1.23.5 in /usr/local/lib/python3.10/dist-packages (from tensorflow) (1.26.4)\n",
      "Requirement already satisfied: wheel<1.0,>=0.23.0 in /usr/local/lib/python3.10/dist-packages (from astunparse>=1.6.0->tensorflow) (0.44.0)\n",
      "Requirement already satisfied: rich in /usr/local/lib/python3.10/dist-packages (from keras>=3.2.0->tensorflow) (13.9.4)\n",
      "Requirement already satisfied: namex in /usr/local/lib/python3.10/dist-packages (from keras>=3.2.0->tensorflow) (0.0.8)\n",
      "Requirement already satisfied: optree in /usr/local/lib/python3.10/dist-packages (from keras>=3.2.0->tensorflow) (0.13.0)\n",
      "Requirement already satisfied: charset-normalizer<4,>=2 in /usr/local/lib/python3.10/dist-packages (from requests<3,>=2.21.0->tensorflow) (3.4.0)\n",
      "Requirement already satisfied: idna<4,>=2.5 in /usr/local/lib/python3.10/dist-packages (from requests<3,>=2.21.0->tensorflow) (3.10)\n",
      "Requirement already satisfied: urllib3<3,>=1.21.1 in /usr/local/lib/python3.10/dist-packages (from requests<3,>=2.21.0->tensorflow) (2.2.3)\n",
      "Requirement already satisfied: certifi>=2017.4.17 in /usr/local/lib/python3.10/dist-packages (from requests<3,>=2.21.0->tensorflow) (2024.8.30)\n",
      "Requirement already satisfied: markdown>=2.6.8 in /usr/local/lib/python3.10/dist-packages (from tensorboard<2.18,>=2.17->tensorflow) (3.7)\n",
      "Requirement already satisfied: tensorboard-data-server<0.8.0,>=0.7.0 in /usr/local/lib/python3.10/dist-packages (from tensorboard<2.18,>=2.17->tensorflow) (0.7.2)\n",
      "Requirement already satisfied: werkzeug>=1.0.1 in /usr/local/lib/python3.10/dist-packages (from tensorboard<2.18,>=2.17->tensorflow) (3.1.3)\n",
      "Requirement already satisfied: MarkupSafe>=2.1.1 in /usr/local/lib/python3.10/dist-packages (from werkzeug>=1.0.1->tensorboard<2.18,>=2.17->tensorflow) (3.0.2)\n",
      "Requirement already satisfied: markdown-it-py>=2.2.0 in /usr/local/lib/python3.10/dist-packages (from rich->keras>=3.2.0->tensorflow) (3.0.0)\n",
      "Requirement already satisfied: pygments<3.0.0,>=2.13.0 in /usr/local/lib/python3.10/dist-packages (from rich->keras>=3.2.0->tensorflow) (2.18.0)\n",
      "Requirement already satisfied: mdurl~=0.1 in /usr/local/lib/python3.10/dist-packages (from markdown-it-py>=2.2.0->rich->keras>=3.2.0->tensorflow) (0.1.2)\n"
     ]
    }
   ],
   "source": [
    "!pip install tensorflow"
   ]
  },
  {
   "cell_type": "code",
   "execution_count": null,
   "metadata": {
    "colab": {
     "base_uri": "https://localhost:8080/"
    },
    "id": "M2jWOHBOQ5fZ",
    "outputId": "3c832454-80fc-4b31-b376-2c2add9414c5"
   },
   "outputs": [
    {
     "name": "stdout",
     "output_type": "stream",
     "text": [
      "Requirement already satisfied: tf-keras in /usr/local/lib/python3.10/dist-packages (2.17.0)\n",
      "Requirement already satisfied: tensorflow<2.18,>=2.17 in /usr/local/lib/python3.10/dist-packages (from tf-keras) (2.17.0)\n",
      "Requirement already satisfied: absl-py>=1.0.0 in /usr/local/lib/python3.10/dist-packages (from tensorflow<2.18,>=2.17->tf-keras) (1.4.0)\n",
      "Requirement already satisfied: astunparse>=1.6.0 in /usr/local/lib/python3.10/dist-packages (from tensorflow<2.18,>=2.17->tf-keras) (1.6.3)\n",
      "Requirement already satisfied: flatbuffers>=24.3.25 in /usr/local/lib/python3.10/dist-packages (from tensorflow<2.18,>=2.17->tf-keras) (24.3.25)\n",
      "Requirement already satisfied: gast!=0.5.0,!=0.5.1,!=0.5.2,>=0.2.1 in /usr/local/lib/python3.10/dist-packages (from tensorflow<2.18,>=2.17->tf-keras) (0.6.0)\n",
      "Requirement already satisfied: google-pasta>=0.1.1 in /usr/local/lib/python3.10/dist-packages (from tensorflow<2.18,>=2.17->tf-keras) (0.2.0)\n",
      "Requirement already satisfied: h5py>=3.10.0 in /usr/local/lib/python3.10/dist-packages (from tensorflow<2.18,>=2.17->tf-keras) (3.12.1)\n",
      "Requirement already satisfied: libclang>=13.0.0 in /usr/local/lib/python3.10/dist-packages (from tensorflow<2.18,>=2.17->tf-keras) (18.1.1)\n",
      "Requirement already satisfied: ml-dtypes<0.5.0,>=0.3.1 in /usr/local/lib/python3.10/dist-packages (from tensorflow<2.18,>=2.17->tf-keras) (0.4.1)\n",
      "Requirement already satisfied: opt-einsum>=2.3.2 in /usr/local/lib/python3.10/dist-packages (from tensorflow<2.18,>=2.17->tf-keras) (3.4.0)\n",
      "Requirement already satisfied: packaging in /usr/local/lib/python3.10/dist-packages (from tensorflow<2.18,>=2.17->tf-keras) (24.2)\n",
      "Requirement already satisfied: protobuf!=4.21.0,!=4.21.1,!=4.21.2,!=4.21.3,!=4.21.4,!=4.21.5,<5.0.0dev,>=3.20.3 in /usr/local/lib/python3.10/dist-packages (from tensorflow<2.18,>=2.17->tf-keras) (4.25.5)\n",
      "Requirement already satisfied: requests<3,>=2.21.0 in /usr/local/lib/python3.10/dist-packages (from tensorflow<2.18,>=2.17->tf-keras) (2.32.3)\n",
      "Requirement already satisfied: setuptools in /usr/local/lib/python3.10/dist-packages (from tensorflow<2.18,>=2.17->tf-keras) (75.1.0)\n",
      "Requirement already satisfied: six>=1.12.0 in /usr/local/lib/python3.10/dist-packages (from tensorflow<2.18,>=2.17->tf-keras) (1.16.0)\n",
      "Requirement already satisfied: termcolor>=1.1.0 in /usr/local/lib/python3.10/dist-packages (from tensorflow<2.18,>=2.17->tf-keras) (2.5.0)\n",
      "Requirement already satisfied: typing-extensions>=3.6.6 in /usr/local/lib/python3.10/dist-packages (from tensorflow<2.18,>=2.17->tf-keras) (4.12.2)\n",
      "Requirement already satisfied: wrapt>=1.11.0 in /usr/local/lib/python3.10/dist-packages (from tensorflow<2.18,>=2.17->tf-keras) (1.16.0)\n",
      "Requirement already satisfied: grpcio<2.0,>=1.24.3 in /usr/local/lib/python3.10/dist-packages (from tensorflow<2.18,>=2.17->tf-keras) (1.67.1)\n",
      "Requirement already satisfied: tensorboard<2.18,>=2.17 in /usr/local/lib/python3.10/dist-packages (from tensorflow<2.18,>=2.17->tf-keras) (2.17.0)\n",
      "Requirement already satisfied: keras>=3.2.0 in /usr/local/lib/python3.10/dist-packages (from tensorflow<2.18,>=2.17->tf-keras) (3.4.1)\n",
      "Requirement already satisfied: tensorflow-io-gcs-filesystem>=0.23.1 in /usr/local/lib/python3.10/dist-packages (from tensorflow<2.18,>=2.17->tf-keras) (0.37.1)\n",
      "Requirement already satisfied: numpy<2.0.0,>=1.23.5 in /usr/local/lib/python3.10/dist-packages (from tensorflow<2.18,>=2.17->tf-keras) (1.26.4)\n",
      "Requirement already satisfied: wheel<1.0,>=0.23.0 in /usr/local/lib/python3.10/dist-packages (from astunparse>=1.6.0->tensorflow<2.18,>=2.17->tf-keras) (0.44.0)\n",
      "Requirement already satisfied: rich in /usr/local/lib/python3.10/dist-packages (from keras>=3.2.0->tensorflow<2.18,>=2.17->tf-keras) (13.9.4)\n",
      "Requirement already satisfied: namex in /usr/local/lib/python3.10/dist-packages (from keras>=3.2.0->tensorflow<2.18,>=2.17->tf-keras) (0.0.8)\n",
      "Requirement already satisfied: optree in /usr/local/lib/python3.10/dist-packages (from keras>=3.2.0->tensorflow<2.18,>=2.17->tf-keras) (0.13.0)\n",
      "Requirement already satisfied: charset-normalizer<4,>=2 in /usr/local/lib/python3.10/dist-packages (from requests<3,>=2.21.0->tensorflow<2.18,>=2.17->tf-keras) (3.4.0)\n",
      "Requirement already satisfied: idna<4,>=2.5 in /usr/local/lib/python3.10/dist-packages (from requests<3,>=2.21.0->tensorflow<2.18,>=2.17->tf-keras) (3.10)\n",
      "Requirement already satisfied: urllib3<3,>=1.21.1 in /usr/local/lib/python3.10/dist-packages (from requests<3,>=2.21.0->tensorflow<2.18,>=2.17->tf-keras) (2.2.3)\n",
      "Requirement already satisfied: certifi>=2017.4.17 in /usr/local/lib/python3.10/dist-packages (from requests<3,>=2.21.0->tensorflow<2.18,>=2.17->tf-keras) (2024.8.30)\n",
      "Requirement already satisfied: markdown>=2.6.8 in /usr/local/lib/python3.10/dist-packages (from tensorboard<2.18,>=2.17->tensorflow<2.18,>=2.17->tf-keras) (3.7)\n",
      "Requirement already satisfied: tensorboard-data-server<0.8.0,>=0.7.0 in /usr/local/lib/python3.10/dist-packages (from tensorboard<2.18,>=2.17->tensorflow<2.18,>=2.17->tf-keras) (0.7.2)\n",
      "Requirement already satisfied: werkzeug>=1.0.1 in /usr/local/lib/python3.10/dist-packages (from tensorboard<2.18,>=2.17->tensorflow<2.18,>=2.17->tf-keras) (3.1.3)\n",
      "Requirement already satisfied: MarkupSafe>=2.1.1 in /usr/local/lib/python3.10/dist-packages (from werkzeug>=1.0.1->tensorboard<2.18,>=2.17->tensorflow<2.18,>=2.17->tf-keras) (3.0.2)\n",
      "Requirement already satisfied: markdown-it-py>=2.2.0 in /usr/local/lib/python3.10/dist-packages (from rich->keras>=3.2.0->tensorflow<2.18,>=2.17->tf-keras) (3.0.0)\n",
      "Requirement already satisfied: pygments<3.0.0,>=2.13.0 in /usr/local/lib/python3.10/dist-packages (from rich->keras>=3.2.0->tensorflow<2.18,>=2.17->tf-keras) (2.18.0)\n",
      "Requirement already satisfied: mdurl~=0.1 in /usr/local/lib/python3.10/dist-packages (from markdown-it-py>=2.2.0->rich->keras>=3.2.0->tensorflow<2.18,>=2.17->tf-keras) (0.1.2)\n"
     ]
    }
   ],
   "source": [
    "pip install tf-keras"
   ]
  },
  {
   "cell_type": "markdown",
   "metadata": {
    "id": "nTa6131Bm7aQ"
   },
   "source": [
    "This will install the latest version of the library."
   ]
  },
  {
   "cell_type": "markdown",
   "metadata": {
    "id": "kthljjOZnAhm"
   },
   "source": [
    "## **Task 1: Pipelines**\n",
    "Huggingface provides a high-level API called **pipelines** that makes it easy to perform a variety of NLP tasks with just a few lines of code.\n",
    "\n",
    "Pipelines are objects that encapsulate all the necessary preprocessing, tokenization, and model inference steps for a given task, so you don't have to worry about the implementation details."
   ]
  },
  {
   "cell_type": "markdown",
   "metadata": {
    "id": "JQvj-qPdKJ2d"
   },
   "source": [
    " **Available Pipelines**:\n",
    "\n",
    "Huggingface provides a variety of pipelines for different NLP tasks. Here are some of the most commonly used ones:\n",
    "\n",
    "* text-generation: Generates text based on a given prompt.\n",
    "* text-classification: Classifies text into one or more categories.\n",
    "* question-answering: Answers questions based on a given context.\n",
    "* summarization: Summarizes a piece of text.\n",
    "* translation: Translates text from one language to another.\n",
    "* fill-mask : Predict the masked word based on the context of the sentence.\n",
    "* ner: Recognizes named entities in a piece of text.\n",
    "\n",
    "\n"
   ]
  },
  {
   "cell_type": "markdown",
   "metadata": {
    "id": "3cWW0LsXBsy_"
   },
   "source": [
    "### **Task 1.1: Text classification using pipeline**\n",
    "\n",
    "So now that you have seen what all pipelines we can use, let's go ahead and see an example of how to use the text classification pipeline:"
   ]
  },
  {
   "cell_type": "code",
   "execution_count": null,
   "metadata": {
    "id": "WDwKyuVpRGiN"
   },
   "outputs": [],
   "source": [
    "import warnings\n",
    "warnings.filterwarnings('ignore')"
   ]
  },
  {
   "cell_type": "code",
   "execution_count": null,
   "metadata": {
    "colab": {
     "base_uri": "https://localhost:8080/",
     "height": 217,
     "referenced_widgets": [
      "be35a3224dc4474ab3850c78ba241ba1",
      "9954b3f6e60242afb69eb2d390675fa4",
      "2ad9434bd7684053a5587d0322f3c32f",
      "c84390c6ed3144d8b13e18798745c774",
      "6cdfe7d2b3ef42a180b2dee1bee3b8f3",
      "803f5f585d8f4be19724112f9fd2d10a",
      "a2a9f8c34f904beea996a45e2f9c12ea",
      "7762b5ea4750417b8b2053684ed23b0c",
      "fb5859a70acd484a9dfa28238762a4f1",
      "1108b0eab5cb46fa86d4b4345c81f582",
      "a28a52d59ed44a12a2fc2765d42e34b0",
      "ba38f4e5d8994a379c06ef04bbf0cbc0",
      "8c276e9eed1744b0b69596dc356fc97d",
      "874ae63d4e8b4209b5751dd9e349e93e",
      "5ade225947124b2fb1b60380ce8918c0",
      "d33a7da8a91544c9b15a039985ee4aad",
      "ffe3424198c24ce89631d6b40077d827",
      "4a2381baf6cb487d992098f782f79680",
      "87f40f2f4b004940a0c6b99b74a30076",
      "53fdf63e347b416693cd118bd788c448",
      "204729d4a37547708e346c17da43c06a",
      "f2e19b15a12d4e51b7d359d2d49f8069",
      "a63fe6f86f1244bab2a13ee5834e620c",
      "097bbe3c55574d739fc161dbbedf6bdf",
      "90194cba4cf3440aa2308cfde511c037",
      "2befe7f7831445928e096380dad9cc67",
      "1bf382b1adb6498a9a00bb95e50bf696",
      "ce668b6faa244fb482df59ae74f1fea3",
      "19f4c29dfd004854957687012ce51c50",
      "b267f9d621434a70a144457152ef1e11",
      "dff16052f3194308af9b4b4fb87badf3",
      "a47523dfd93d45a6902afa6163870c3d",
      "404bb826b2d14f7e971d3878c12ef813",
      "a038a2e219d844e0bc0643bdfaee7128",
      "f08657e509fb45539c0420dbd2e742f4",
      "ace6ac14a3e74caead67c26c92ce0a3f",
      "42b9a37720fc4b13b0b750173943601b",
      "3834f38d8b1a4dd686d6fb2b686ee488",
      "d50f50398da84a9b94e6e68983feb250",
      "9851d80730894ea58eb0374c493b3cbf",
      "46e8b5be8ee0468d8eaa2ab119550118",
      "875a1d09803f47cd9cd77bee3ea85c96",
      "3a1e0a5a221544c3806c5ad43dc4ae49",
      "5d73bdef591f4f34bc22afd8523fa2b6"
     ]
    },
    "id": "JjVVVPH5KJ2e",
    "outputId": "8d291f82-8a9f-4197-ec5d-713bbe6a705a"
   },
   "outputs": [
    {
     "name": "stderr",
     "output_type": "stream",
     "text": [
      "No model was supplied, defaulted to distilbert/distilbert-base-uncased-finetuned-sst-2-english and revision 714eb0f (https://huggingface.co/distilbert/distilbert-base-uncased-finetuned-sst-2-english).\n",
      "Using a pipeline without specifying a model name and revision in production is not recommended.\n"
     ]
    },
    {
     "data": {
      "application/vnd.jupyter.widget-view+json": {
       "model_id": "be35a3224dc4474ab3850c78ba241ba1",
       "version_major": 2,
       "version_minor": 0
      },
      "text/plain": [
       "config.json:   0%|          | 0.00/629 [00:00<?, ?B/s]"
      ]
     },
     "metadata": {},
     "output_type": "display_data"
    },
    {
     "data": {
      "application/vnd.jupyter.widget-view+json": {
       "model_id": "ba38f4e5d8994a379c06ef04bbf0cbc0",
       "version_major": 2,
       "version_minor": 0
      },
      "text/plain": [
       "model.safetensors:   0%|          | 0.00/268M [00:00<?, ?B/s]"
      ]
     },
     "metadata": {},
     "output_type": "display_data"
    },
    {
     "data": {
      "application/vnd.jupyter.widget-view+json": {
       "model_id": "a63fe6f86f1244bab2a13ee5834e620c",
       "version_major": 2,
       "version_minor": 0
      },
      "text/plain": [
       "tokenizer_config.json:   0%|          | 0.00/48.0 [00:00<?, ?B/s]"
      ]
     },
     "metadata": {},
     "output_type": "display_data"
    },
    {
     "data": {
      "application/vnd.jupyter.widget-view+json": {
       "model_id": "a038a2e219d844e0bc0643bdfaee7128",
       "version_major": 2,
       "version_minor": 0
      },
      "text/plain": [
       "vocab.txt:   0%|          | 0.00/232k [00:00<?, ?B/s]"
      ]
     },
     "metadata": {},
     "output_type": "display_data"
    },
    {
     "name": "stdout",
     "output_type": "stream",
     "text": [
      "[{'label': 'NEGATIVE', 'score': 0.9989637136459351}]\n"
     ]
    }
   ],
   "source": [
    "from transformers import pipeline\n",
    "\n",
    "# To perform a specific NLP task, you can simply create a pipeline object and specify the task you want to perform.\n",
    "classifier = pipeline('text-classification')\n",
    "result = classifier('I am sad that India lost the cricket match!')\n",
    "print(result)"
   ]
  },
  {
   "cell_type": "markdown",
   "metadata": {
    "id": "5dDfFfBanR-D"
   },
   "source": [
    "#### Understanding the Output\n",
    "\n",
    "The output shows that the input sentence is classified as positive with a high score of 0.999.\n",
    "\n",
    "The pipeline returns a list of dictionary for the input sequence. In this case, the dictionary contains a label and a score indicating the sentiment of the input text.\n",
    "\n",
    "\n",
    "\n",
    "*Try playing with the input sentence to the classifier and observe the results.*\n"
   ]
  },
  {
   "cell_type": "markdown",
   "metadata": {
    "id": "ZdNHjgRO_Z4y"
   },
   "source": [
    "\n",
    "\n",
    "- You noticed that you don't have to specify the model, the pipeline object automatically downloads the model on observing the input sequence and the task you specified. That's the power of pipeline!\n",
    "\n",
    "- You can observe that by default the pipeline object called the `distilbert-base-uncased-finetuned-sst-2-english` model for classifying the input sentence. But what does each of this term in the model name mean?\n",
    "    - `DistilBERT`: It is a smaller and faster variant*(distilled variant)* of the popular BERT (Bidirectional Encoder Representations from Transformers) model, developed by Huggingface. DistilBERT is trained in the same way as BERT, but with fewer parameters, resulting in a smaller model that is faster and more efficient to use. Despite its smaller size, it still achieves good performance on a wide range of NLP tasks.\n",
    "\n",
    " *  *The name \"distil\" stands for \"distillation\", as the model was distilled from the larger and more complex models to be more lightweight and efficient, while still maintaining a high level of performance.*\n",
    "\n",
    "  -  `uncased`: It refers to the fact that the model is trained on text that has been converted to lowercase, so it does not distinguish between words that appear in different case forms. For example, the words \"Hello\" and \"hello\" would be treated the same by the model.\n",
    "\n",
    "  -  `fine-tuned`: It means that the model has been trained on a specific task (in this case, sentiment analysis on the **Stanford Sentiment Treebank (SST-2)** dataset) after being pre-trained on a large corpus of text. Fine-tuning allows the model to adapt to the specific task it is being used for and improve its performance on that task."
   ]
  },
  {
   "cell_type": "markdown",
   "metadata": {
    "id": "UpQsQbPCOZ5f"
   },
   "source": [
    "You can pass in multiple sentences to do the same task of Text Classification:"
   ]
  },
  {
   "cell_type": "code",
   "execution_count": null,
   "metadata": {
    "colab": {
     "base_uri": "https://localhost:8080/"
    },
    "id": "n05EHRT2OZGf",
    "outputId": "c422c52d-39c7-4ba3-ce10-6934543fbc87"
   },
   "outputs": [
    {
     "name": "stderr",
     "output_type": "stream",
     "text": [
      "No model was supplied, defaulted to distilbert/distilbert-base-uncased-finetuned-sst-2-english and revision af0f99b (https://huggingface.co/distilbert/distilbert-base-uncased-finetuned-sst-2-english).\n",
      "Using a pipeline without specifying a model name and revision in production is not recommended.\n"
     ]
    },
    {
     "name": "stdout",
     "output_type": "stream",
     "text": [
      "[{'label': 'NEGATIVE', 'score': 0.9839023947715759}, {'label': 'POSITIVE', 'score': 0.9998769760131836}]\n"
     ]
    }
   ],
   "source": [
    "# List of input sentences\n",
    "input_sentences = [\n",
    "    \"I don't like this movie\",\n",
    "    \"University is helping me learn new and wonderful things.\",\n",
    "]\n",
    "\n",
    "# Creating a pipeline object for sentiment analysis\n",
    "classifier = pipeline(\"text-classification\")\n",
    "\n",
    "# Performing sentiment analysis on the input sentences\n",
    "result = classifier(input_sentences)\n",
    "\n",
    "# Printing the results\n",
    "print(result)"
   ]
  },
  {
   "cell_type": "markdown",
   "metadata": {
    "id": "RejT8l4EO27Y"
   },
   "source": [
    "You can observe from the results that:\n",
    "* For the first sentence, the model returns **Negative sentiment** with a high score of 98%\n",
    "* For the second sentence, the model returns **Positive sentiment** with a high score of 99%"
   ]
  },
  {
   "cell_type": "markdown",
   "metadata": {
    "id": "ZlSaSJbTKJ2f"
   },
   "source": [
    "#### **Task 1.1.1: Load a pre-trained transformer model**\n",
    "\n",
    "The pipeline automatically selects the best model based on the defined NLP task and input sentence. However, there are situations where you may want to use a specific pre-trained model for your task.\n",
    "\n",
    "For example, you may have previously fine-tuned a model for a specific task and want to use that same model for inference.\n",
    "\n",
    "In addition, there may be cases where the pipeline's default model selection may not be the best option for your specific use case. In such cases, you can specify the model name to use a specific pre-trained model instead of relying on the pipeline's default model selection.\n",
    "\n",
    " Here's an example:\n"
   ]
  },
  {
   "cell_type": "code",
   "execution_count": null,
   "metadata": {
    "colab": {
     "base_uri": "https://localhost:8080/",
     "height": 281,
     "referenced_widgets": [
      "3d2512179a2c4cfb91ce003b09e3ddcf",
      "f88dcb59c2d04ac2a58b4ef2df0d71c4",
      "925a756e7f674ab6b819418f1eaa475c",
      "77abd8c14ae64b90966cf01f90b43241",
      "2e1b325a27054750adcf2eb8316803dd",
      "9e0f838737cc47cbac1f0e456c805233",
      "33c65a9b409a4cc1b8282940e12190d5",
      "27dab24e2eaf497a86c16621266878ec",
      "1c814c6a4cdf4a6dac0effc8472a8b3e",
      "8e23fd73a63c4169be1f7e6057daf0d7",
      "02819b6eedc244578aa32478c36dee11",
      "772bd6a64cab4a9ea668fddd5343920f",
      "50e8ffde420247bcbe4ad6f9a65ac668",
      "f72ea523e4e643788d4d9921e1c9515c",
      "087a200c580742b2a7b56267d8113f3d",
      "7c824b58ada44b8789c87c38d1d371dc",
      "0e64851422c949a6a3e142733ca370ec",
      "8d05829ab25b425f8af302b5c97b9db1",
      "168648e6bb334fbc8fe72bff3231d610",
      "f286d01486364241bfcd794eb972e299",
      "379efdd3f603432ea6ef8b41ac28971e",
      "8cf8e3d3c9e343389f278e1f9f1c546a",
      "aa2717862d5c46b7b34ae875ff1e7912",
      "a84d8dd18bd64e4ab5f17111f4a53cf5",
      "7a88e9f433854f96a0861895a44fd7b8",
      "6aadbd852b3446a5809d080858883e4c",
      "9c80c3452e72438eacff07660dcd8c96",
      "c34b4e7d6c28495bb05170b98fccb5d2",
      "4d7565d36c734b00b16df84a3997eaf2",
      "78be61e04a884da7a40708cc8f5a9fd4",
      "6c9a7b6e88264147a1e88c7d2e1ece7f",
      "e599cf2f8185493bae58f355a856d1cd",
      "0bc7023a51544634a09f583647f962df",
      "3aed143e37cd49e5a5b15d0b1eddbc35",
      "46423bba55394eedb4322b66e3df47a5",
      "4b4c1809a2a4483b97bfd3e7fa3b030e",
      "2dc8a0280bc3492da2db908fcd0858b7",
      "14f6d385d29345aca64860e785ffc489",
      "0006f304ef88447bb0729485dfde1126",
      "9482a6da36064a4c9065086b0b374843",
      "22c21dba9b2b4e5f82c38307620566c8",
      "54a93f74e6e04b248ee2d1616160aa72",
      "a7a3e2104c2f4093bf30558538aba393",
      "4e2697d223b1466ab77df1857e105699",
      "10d6a42106064568bc8180e1bdd32fc5",
      "7be1e43a7545427da9bd9f3ba8d538c8",
      "7b77d40e4ec44ef8a4d943d6a4d230a6",
      "8e51319559b24bb98dd8f2707e4140f8",
      "1007afd48d564f62a13dd08f7af982cf",
      "5946b8d04f7a48bcb79e4a0eb3d1fa0f",
      "c85ebc604cac474f8ca0bfdf2633c758",
      "9c3ce084ec634b0994f9f150976f19fb",
      "2c3db0c702f241aabb34a7ffd4e04ac4",
      "9bd327f7bfd4435e97ff1ae6b0cc680f",
      "2693d66d931943b5a53c60215b2aa274",
      "fd98b00ff8084bc8be23d5c84a34150d",
      "44dd6cfe505640d2a21bb13ba1ec25be",
      "0c75de429d8847c5b06bab251dfbd36f",
      "80bf93ead3174654915afeb1c107a1c1",
      "0f6f0b19d0914648b3941f044c3b312c",
      "8592e0bd8f9c438eb70eb8637ca12da0",
      "de899174277c4b07bf569391dfe6b3a0",
      "f2ab957b5b6e4e719944f8f963f21d47",
      "f656f2b9b8e04dad9c28f3825ac931d4",
      "8352d295406f4af2bbccdda9625e49a4",
      "16c01d453c1343b5ae12e8a0e52582a6"
     ]
    },
    "id": "pKaugkS_1mZs",
    "outputId": "3725e732-f516-464d-93c3-2033788c243f"
   },
   "outputs": [
    {
     "data": {
      "application/vnd.jupyter.widget-view+json": {
       "model_id": "3d2512179a2c4cfb91ce003b09e3ddcf",
       "version_major": 2,
       "version_minor": 0
      },
      "text/plain": [
       "config.json:   0%|          | 0.00/481 [00:00<?, ?B/s]"
      ]
     },
     "metadata": {},
     "output_type": "display_data"
    },
    {
     "data": {
      "application/vnd.jupyter.widget-view+json": {
       "model_id": "772bd6a64cab4a9ea668fddd5343920f",
       "version_major": 2,
       "version_minor": 0
      },
      "text/plain": [
       "model.safetensors:   0%|          | 0.00/499M [00:00<?, ?B/s]"
      ]
     },
     "metadata": {},
     "output_type": "display_data"
    },
    {
     "name": "stderr",
     "output_type": "stream",
     "text": [
      "Some weights of RobertaForSequenceClassification were not initialized from the model checkpoint at roberta-base and are newly initialized: ['classifier.dense.bias', 'classifier.dense.weight', 'classifier.out_proj.bias', 'classifier.out_proj.weight']\n",
      "You should probably TRAIN this model on a down-stream task to be able to use it for predictions and inference.\n"
     ]
    },
    {
     "data": {
      "application/vnd.jupyter.widget-view+json": {
       "model_id": "aa2717862d5c46b7b34ae875ff1e7912",
       "version_major": 2,
       "version_minor": 0
      },
      "text/plain": [
       "tokenizer_config.json:   0%|          | 0.00/25.0 [00:00<?, ?B/s]"
      ]
     },
     "metadata": {},
     "output_type": "display_data"
    },
    {
     "data": {
      "application/vnd.jupyter.widget-view+json": {
       "model_id": "3aed143e37cd49e5a5b15d0b1eddbc35",
       "version_major": 2,
       "version_minor": 0
      },
      "text/plain": [
       "vocab.json:   0%|          | 0.00/899k [00:00<?, ?B/s]"
      ]
     },
     "metadata": {},
     "output_type": "display_data"
    },
    {
     "data": {
      "application/vnd.jupyter.widget-view+json": {
       "model_id": "10d6a42106064568bc8180e1bdd32fc5",
       "version_major": 2,
       "version_minor": 0
      },
      "text/plain": [
       "merges.txt:   0%|          | 0.00/456k [00:00<?, ?B/s]"
      ]
     },
     "metadata": {},
     "output_type": "display_data"
    },
    {
     "data": {
      "application/vnd.jupyter.widget-view+json": {
       "model_id": "fd98b00ff8084bc8be23d5c84a34150d",
       "version_major": 2,
       "version_minor": 0
      },
      "text/plain": [
       "tokenizer.json:   0%|          | 0.00/1.36M [00:00<?, ?B/s]"
      ]
     },
     "metadata": {},
     "output_type": "display_data"
    },
    {
     "name": "stdout",
     "output_type": "stream",
     "text": [
      "[{'label': 'LABEL_0', 'score': 0.5009933710098267}]\n"
     ]
    }
   ],
   "source": [
    "# To use a pre-trained model for a specific NLP task, you can simply create a pipeline object, specify the task you want to perform & the model name you want to use.\n",
    "classifier = pipeline('text-classification', model = \"roberta-base\") #pipeline(task=\"text-classification\", model=\"SamLowe/roberta-base-go_emotions\")\n",
    "result = classifier('I love India!')\n",
    "print(result)"
   ]
  },
  {
   "cell_type": "markdown",
   "metadata": {
    "id": "dIm3_f2p-dwC"
   },
   "source": [
    "The model returned returns a list of dictionary with a poor score. But why?\n",
    "\n",
    "The label **LABEL_1** is not specific to any particular sentiment. Rather, it is a general label that the model assigns to one of the possible classes for the sentiment classification task. In this case, it means that the model has classified the sentiment of the input sentence as negative or neutral, but not positive.\n",
    "\n",
    "The reason why the score is low for the sentence **\"I love India!\"** when using the `roberta-base` model is likely due to the fact that this model was not specifically trained on the sentiment analysis task, unlike the `distilbert-base-uncased-finetuned-sst-2-english` model. The `roberta-base` model (a pre-trained RoBERTa model) is a general-purpose language model that can be fine-tuned on a variety of tasks, including sentiment analysis, but it may not perform as well as models that were specifically designed and trained for the sentiment analysis task."
   ]
  },
  {
   "cell_type": "markdown",
   "metadata": {
    "id": "9xtiw8zGBinH"
   },
   "source": [
    "### **Task 1.2: Text generation using pipeline**\n",
    "\n",
    "We have learned how to classify text using pipeline, how about generating text? To do so, you have to rename the task inside the pipeline to `text-generation` and specify the model name (if required)."
   ]
  },
  {
   "cell_type": "code",
   "execution_count": null,
   "metadata": {
    "colab": {
     "base_uri": "https://localhost:8080/",
     "height": 296,
     "referenced_widgets": [
      "494c8066e7f44cfbbdc1d5cbb924a431",
      "a76812aa0c59435db1a25198a0f44b04",
      "9e67f6a77d924bba89b192c6526c7427",
      "608feb22030e43cf943e5b0bfbb3c847",
      "4e6def0b9458426cad861baf1bbe3027",
      "a997a6099d2046d1bde8e97df2e1745f",
      "cf77bc75a30e40629fc3f8f3fe76dcc5",
      "7d6cb2d070fb40a8805ccb534c8570aa",
      "14ac24f48272425080dc48335d4cf1c4",
      "eeb356a87f2e40a1b63d3f5fd05ee6ed",
      "e7e77eba0761479c9ef59e5feb6b7890",
      "f9ee9ce6ee004298abaf351f358747b4",
      "e1d214e5f06f4c30aa6a1cd264b4fc75",
      "ae51a201cc1c4e86ae46ef4ac29d5c45",
      "f5fb11e9fb9443c0af0e74a36c8e280d",
      "0bd1a749ec14461dbe9ce7c74e8a6078",
      "4c02dd37a2804f9bb7cafb98017af408",
      "edf25e01fe7a474d90fe9c51ebd694f1",
      "3c8a5b6df9f44ff1ac6ddaac77c43a8e",
      "b59eda347e8944a289d11ae781b2d612",
      "90307ad983a0403baecdb5a42ba17b24",
      "2657069347d140128c4d531ef5fef258",
      "e8fb906e0dbb4fd3bfd81d12914622af",
      "4ccb4b13e2de43c19c1641d0bd5b6463",
      "2194897391cf4be791fa01e3eb932ff3",
      "b8a019654b9e483085425cda55242ddc",
      "17e3fe9de9974af797871934e7d5f38f",
      "8d02458a75df4e3489563ad8051e63b7",
      "b1f0a3c1413f4cd28bbd6ebd1cedc3a2",
      "9f15966ef53641ee9b4467bcd58083a4",
      "b9f7ce25b2e047f1a025fc589b5b6a0a",
      "54ca2c2aab14460096057b73e4df9d2e",
      "59ca404f96274890a9478a4fa884625a",
      "eb2711ea048342d1a3dfbb1ba5d571ac",
      "591184df38be4120b5b530b50907724b",
      "9737f1618a214211ba4f8064b09b96a2",
      "691221cda7de443281f6cdaa53822d68",
      "ba34b1be7ea444d290c99d80d4b64a66",
      "89efa30a32de4f91b8fe1a1d0485da16",
      "81a67423738d49a7846ca6618ae07c26",
      "9bbf2ce720d74003b0576222cae3eced",
      "ab72f7e8390b40f0a415cee8c9244907",
      "9e94989909b74cb38c9b877dc24a6eb3",
      "6a500438dca04b859580d3e792c8ed5e",
      "f9be62ba8a7a4196b4e598bfb128fee3",
      "b9793d50b4ac45478200167aee155423",
      "919aaf2b0cb54f3fa01921048ac6e23a",
      "407c0a8ac4f741f38ec3f46ce31a7a7a",
      "4393612ebb2b4b01bb4ef30b486c4251",
      "5a96098851d642bba653f58c32b6408f",
      "58228f35f57f4842984ebaee85e898af",
      "fe591d9f9f0744659a2428a2959bfd50",
      "adf1c7632b3a49e597162188cec66cb7",
      "2d195703a8ba46c48faddbc490b27af3",
      "aa59f102b52e47a8bf547d3a7d1f78da",
      "a9823e49641442ae8a8f800675a2c08d",
      "d0b89c9406e1447e8de488b7a0e68788",
      "8be47daa86294ff988e5a19adc8fd65e",
      "0db8fa5e6cb8402ca3f5238f12583d97",
      "d44e39a144eb48dfbeb34d2a12fad3bf",
      "926efee5e5354259b60cc836c2fcefb1",
      "6e2425b46ad64e4aa4f5c293683af35c",
      "dfc7a4c091d8401fa3828a099ca66021",
      "583ac4bf21314663acb7fdb56758deb5",
      "9399767e70b549489447bbd0c37c50db",
      "6a97263fd87447c581b47c2f62ad3aa7",
      "a141b519f7e84741a41734a4bf8b53bf",
      "b24189850cd74f0ea2597654849955f9",
      "29218bdd720842e4b61e4885e317efe1",
      "1f1c82830f5b425a8a72bb8fa6ec16d2",
      "95e132f436944deda8cc1b63bd3daee8",
      "3236a078c8d749048f6788392e80ca9d",
      "a0c644d786c24146b68e1be202e168a2",
      "7f85905655094ba5b0c811ee78936589",
      "95531645cb9d4194bda4364ff21145b2",
      "d4d962087ea841f4942f0fe346ab02ce",
      "743e31586f514fb4838d6eb525882600"
     ]
    },
    "id": "0iOikAXWKJ2g",
    "outputId": "37c83376-0eb5-46fc-c9e3-3be6f9598140"
   },
   "outputs": [
    {
     "data": {
      "application/vnd.jupyter.widget-view+json": {
       "model_id": "494c8066e7f44cfbbdc1d5cbb924a431",
       "version_major": 2,
       "version_minor": 0
      },
      "text/plain": [
       "config.json:   0%|          | 0.00/762 [00:00<?, ?B/s]"
      ]
     },
     "metadata": {},
     "output_type": "display_data"
    },
    {
     "data": {
      "application/vnd.jupyter.widget-view+json": {
       "model_id": "f9ee9ce6ee004298abaf351f358747b4",
       "version_major": 2,
       "version_minor": 0
      },
      "text/plain": [
       "model.safetensors:   0%|          | 0.00/353M [00:00<?, ?B/s]"
      ]
     },
     "metadata": {},
     "output_type": "display_data"
    },
    {
     "data": {
      "application/vnd.jupyter.widget-view+json": {
       "model_id": "e8fb906e0dbb4fd3bfd81d12914622af",
       "version_major": 2,
       "version_minor": 0
      },
      "text/plain": [
       "generation_config.json:   0%|          | 0.00/124 [00:00<?, ?B/s]"
      ]
     },
     "metadata": {},
     "output_type": "display_data"
    },
    {
     "data": {
      "application/vnd.jupyter.widget-view+json": {
       "model_id": "eb2711ea048342d1a3dfbb1ba5d571ac",
       "version_major": 2,
       "version_minor": 0
      },
      "text/plain": [
       "tokenizer_config.json:   0%|          | 0.00/26.0 [00:00<?, ?B/s]"
      ]
     },
     "metadata": {},
     "output_type": "display_data"
    },
    {
     "data": {
      "application/vnd.jupyter.widget-view+json": {
       "model_id": "f9be62ba8a7a4196b4e598bfb128fee3",
       "version_major": 2,
       "version_minor": 0
      },
      "text/plain": [
       "vocab.json:   0%|          | 0.00/1.04M [00:00<?, ?B/s]"
      ]
     },
     "metadata": {},
     "output_type": "display_data"
    },
    {
     "data": {
      "application/vnd.jupyter.widget-view+json": {
       "model_id": "a9823e49641442ae8a8f800675a2c08d",
       "version_major": 2,
       "version_minor": 0
      },
      "text/plain": [
       "merges.txt:   0%|          | 0.00/456k [00:00<?, ?B/s]"
      ]
     },
     "metadata": {},
     "output_type": "display_data"
    },
    {
     "data": {
      "application/vnd.jupyter.widget-view+json": {
       "model_id": "a141b519f7e84741a41734a4bf8b53bf",
       "version_major": 2,
       "version_minor": 0
      },
      "text/plain": [
       "tokenizer.json:   0%|          | 0.00/1.36M [00:00<?, ?B/s]"
      ]
     },
     "metadata": {},
     "output_type": "display_data"
    },
    {
     "name": "stderr",
     "output_type": "stream",
     "text": [
      "Setting `pad_token_id` to `eos_token_id`:50256 for open-end generation.\n"
     ]
    },
    {
     "name": "stdout",
     "output_type": "stream",
     "text": [
      "[{'generated_text': 'In the galaxy far far away, so we can only see the galaxy far away, from the sky.\"\\n\\n\\n\\n\"It\\'s a bit more fun now, so you just can\\'t imagine what would go into a galaxy far away,\" Kim'}]\n"
     ]
    }
   ],
   "source": [
    "# Creating a pipeline object for text generation with the \"distilgpt2\" model\n",
    "generator = pipeline(\"text-generation\", model=\"distilgpt2\")\n",
    "\n",
    "# Generating text starting with the given prompt\n",
    "result = generator(\"In the galaxy far far away\" )\n",
    "\n",
    "# Printing the generated text\n",
    "print(result)"
   ]
  },
  {
   "cell_type": "markdown",
   "metadata": {
    "id": "94lbbzgXJBX0"
   },
   "source": [
    "Notice the output the model gave; it doesn't make much sense or human like. You can limit the output's length by passing additional arguments `max_length=30` as part of the generator input."
   ]
  },
  {
   "cell_type": "markdown",
   "metadata": {
    "id": "MCiMj_j_ncnm"
   },
   "source": [
    "NOTE:  `distilgpt2` is a pre-trained language model based on the GPT-2 architecture, but with a smaller number of parameters.  The distilgpt2 model is particularly suitable for generating short and medium-length text sequences, such as headlines, captions, or tweets."
   ]
  },
  {
   "cell_type": "markdown",
   "metadata": {
    "id": "CwTR8keKKJ2i"
   },
   "source": [
    "### **Task 1.3: Masked Entity Prediction using pipeline**\n",
    "\n",
    "In Masked Language Modelling(MLM) or Masked Entity Prediction(MEP), the model is trained to predict a missing word in a given sentence where the word is replaced with a special token, usually `<mask>`."
   ]
  },
  {
   "cell_type": "code",
   "execution_count": null,
   "metadata": {
    "colab": {
     "base_uri": "https://localhost:8080/",
     "height": 455,
     "referenced_widgets": [
      "e84939e116b44dbe98650578af239c81",
      "fc568016c8ba4a52b9043e8534707a63",
      "ddcc4dd7b9bc42dabb3f66c76f43488d",
      "fc002a9bfe874e52ac2a66f23d3379f4",
      "6fc576d245164e81ac7de1cae8251869",
      "931f073ec6ad426089072e2ec4609b60",
      "511eecf94e36449498a820031b5919cb",
      "19b24d0a0d6e43abaf4cf0880039d5cc",
      "ec85cdcf8d114b58b64753a26aba0d43",
      "130268d21bf6408a9b632c458b7f55ce",
      "8561d388a3c3460cac660ae00cdcdc4a",
      "fe20de3c0f5f44dbacb3c51f80399b72",
      "c1ca9ff0bdc441229184e279fd68e0a0",
      "86d4719d3dd8435eba30efacb9d1a7c0",
      "16537386e2794aa693a1ee4f57dd4c0f",
      "ed62934665e748a9b7e0f7e58f9c84ca",
      "27292d3ebdd84722bc25ee52a180d637",
      "346c58481d31481ea8616de556ff9ec2",
      "566a11709ba24199851286c85c381c9b",
      "ef31c037cbc14fce85463a93943770a4",
      "8a9cf15595704006a36612a3ee2594ce",
      "b7348b6c14a949239f7f54a54b739b46",
      "f20163b996314a71a952143a0614e5f2",
      "7f1cb0d86b4e4c7cb38cf7cf71ff9f0a",
      "3e382ea20f46459abe475f86aee70587",
      "17891d35f8fc4856aae4f03cb49961c3",
      "df5238f12f8b4f738d506a27f1dec3a6",
      "71a0afa87d074fcabc8dcc5da744f352",
      "1d53fc4ccd7940f882d5573ac0b02b31",
      "9a52c471dfcf472eafa4a666c2a9db02",
      "7504ba347a16449aa2678f3b15f22ab7",
      "2d744da598374fa5870b8f57421896f5",
      "0b013ff186fc40c4a0366eab408e3fe5",
      "ee7f74cf9c7c4172b949f4307837586e",
      "a6b070cc402846c7ac7cc2e370778944",
      "c1fa61d2019546da978d202b2675a954",
      "ce127208a9df403fb1bd5f409d47938b",
      "d68f8adcf1d54c158211760493672695",
      "8e2a14cf676640a49f89af8f19dac7f1",
      "6d53eef0875844e4b60b1ea014775b84",
      "b98c653dfc324de4b8bfa3f98a7384f6",
      "8d3c6f29843948aa809bd96bb5de5077",
      "d6cdee446a0f47509bc639ce2288a3e6",
      "494071f86f994c859cf94d4107a96414",
      "5e232da5b91548148c109b8239da7fe9",
      "0c8f70fcef274236b34b1085d02ced5e",
      "78b10420769a45f1a7b51138fa074e0e",
      "0443202dba4b4d319df3fc3da070feff",
      "81795bd27ea5459d9f278d354dbf359b",
      "ae9fad68f0a14c47906eb0744226ec8d",
      "1ca2d7906b2647dc9579686439378b51",
      "7b7775e720664461b9a5b08c35d8db59",
      "fdd815ad96a04910b78b82e3242345a7",
      "dfcb201cf370482cabc20d5fd748defa",
      "9b67d22651c14f1485ac4a5f09e8d66e",
      "427d5a214d4f4220b2b61ad0708cb6da",
      "18bd1378aa6c4642b62b25bbfa4ac426",
      "c27c8bcd10b5456db4011df019f458f1",
      "4607ae0159ff48b8969cfc107aec20e2",
      "b2d7847f4fc2467da5f9bc8279af49bc",
      "ee20275c1dc84d86aecf10d63b2a0569",
      "211ff4f0b89848b8894e456258f371f0",
      "0b30d081edaa4b919b4106d203207929",
      "035c53d138aa4e2fa7ab8ec294a7fcef",
      "66d788ebd44b4b6db37fc941224af005",
      "096bacf36bd04bbd85d2066641d90bb3"
     ]
    },
    "id": "dKOWiQJCKJ2l",
    "outputId": "b8f0b401-6af7-4b25-d4a9-54d0e54e207d"
   },
   "outputs": [
    {
     "name": "stderr",
     "output_type": "stream",
     "text": [
      "No model was supplied, defaulted to distilbert/distilroberta-base and revision ec58a5b (https://huggingface.co/distilbert/distilroberta-base).\n",
      "Using a pipeline without specifying a model name and revision in production is not recommended.\n"
     ]
    },
    {
     "data": {
      "application/vnd.jupyter.widget-view+json": {
       "model_id": "e84939e116b44dbe98650578af239c81",
       "version_major": 2,
       "version_minor": 0
      },
      "text/plain": [
       "config.json:   0%|          | 0.00/480 [00:00<?, ?B/s]"
      ]
     },
     "metadata": {},
     "output_type": "display_data"
    },
    {
     "data": {
      "application/vnd.jupyter.widget-view+json": {
       "model_id": "fe20de3c0f5f44dbacb3c51f80399b72",
       "version_major": 2,
       "version_minor": 0
      },
      "text/plain": [
       "model.safetensors:   0%|          | 0.00/331M [00:00<?, ?B/s]"
      ]
     },
     "metadata": {},
     "output_type": "display_data"
    },
    {
     "name": "stderr",
     "output_type": "stream",
     "text": [
      "Some weights of the model checkpoint at distilbert/distilroberta-base were not used when initializing RobertaForMaskedLM: ['roberta.pooler.dense.bias', 'roberta.pooler.dense.weight']\n",
      "- This IS expected if you are initializing RobertaForMaskedLM from the checkpoint of a model trained on another task or with another architecture (e.g. initializing a BertForSequenceClassification model from a BertForPreTraining model).\n",
      "- This IS NOT expected if you are initializing RobertaForMaskedLM from the checkpoint of a model that you expect to be exactly identical (initializing a BertForSequenceClassification model from a BertForSequenceClassification model).\n"
     ]
    },
    {
     "data": {
      "application/vnd.jupyter.widget-view+json": {
       "model_id": "f20163b996314a71a952143a0614e5f2",
       "version_major": 2,
       "version_minor": 0
      },
      "text/plain": [
       "tokenizer_config.json:   0%|          | 0.00/25.0 [00:00<?, ?B/s]"
      ]
     },
     "metadata": {},
     "output_type": "display_data"
    },
    {
     "data": {
      "application/vnd.jupyter.widget-view+json": {
       "model_id": "ee7f74cf9c7c4172b949f4307837586e",
       "version_major": 2,
       "version_minor": 0
      },
      "text/plain": [
       "vocab.json:   0%|          | 0.00/899k [00:00<?, ?B/s]"
      ]
     },
     "metadata": {},
     "output_type": "display_data"
    },
    {
     "data": {
      "application/vnd.jupyter.widget-view+json": {
       "model_id": "5e232da5b91548148c109b8239da7fe9",
       "version_major": 2,
       "version_minor": 0
      },
      "text/plain": [
       "merges.txt:   0%|          | 0.00/456k [00:00<?, ?B/s]"
      ]
     },
     "metadata": {},
     "output_type": "display_data"
    },
    {
     "data": {
      "application/vnd.jupyter.widget-view+json": {
       "model_id": "427d5a214d4f4220b2b61ad0708cb6da",
       "version_major": 2,
       "version_minor": 0
      },
      "text/plain": [
       "tokenizer.json:   0%|          | 0.00/1.36M [00:00<?, ?B/s]"
      ]
     },
     "metadata": {},
     "output_type": "display_data"
    },
    {
     "data": {
      "text/plain": [
       "[{'score': 0.5679106712341309,\n",
       "  'token': 1798,\n",
       "  'token_str': ' hear',\n",
       "  'sequence': 'You are going to hear about a wonderful library today.'},\n",
       " {'score': 0.22818486392498016,\n",
       "  'token': 1532,\n",
       "  'token_str': ' learn',\n",
       "  'sequence': 'You are going to learn about a wonderful library today.'}]"
      ]
     },
     "execution_count": 8,
     "metadata": {},
     "output_type": "execute_result"
    }
   ],
   "source": [
    "# Creating a pipeline object for masked language modeling\n",
    "unmasker = pipeline(\"fill-mask\")\n",
    "\n",
    "# Generating predictions for the masked tokens in the input text\n",
    "unmasker(\"You are going to <mask> about a wonderful library today.\", top_k=2)"
   ]
  },
  {
   "cell_type": "markdown",
   "metadata": {
    "id": "5p9S1ohaLguB"
   },
   "source": [
    "The output of the code provides a list of candidate words that could be used to replace the masked token in the input sentence. For each candidate word, the output also provides a score indicating the likelihood of that word being the correct replacement.\n",
    "\n",
    "In this specific example, the top two(top_k = 2) candidate words for the masked token in the input sentence: **\"You are going to <mask> about a wonderful library today.\"** are **\"hear\"** and **\"learn\"**.\n",
    "\n",
    "The first candidate word \"hear\" has a higher score of **0.5679** compared to the second candidate word \"learn\", which has a score of **0.2281.**"
   ]
  },
  {
   "cell_type": "markdown",
   "metadata": {
    "id": "oi8mNKL5MYFP"
   },
   "source": [
    "NOTE: When we ran the code, it is observed that the default model used is `distilroberta-base`, which is a smaller and faster version of the RoBERTa model. This model is trained on a large corpus of text to predict the missing words in a sentence, and it performs well on various NLP tasks such as sentiment analysis, text classification, and more."
   ]
  },
  {
   "cell_type": "markdown",
   "metadata": {
    "id": "JrW8J9KTPZDm"
   },
   "source": [
    "### **Task 1.4. Question Answering Task**"
   ]
  },
  {
   "cell_type": "code",
   "execution_count": null,
   "metadata": {
    "colab": {
     "base_uri": "https://localhost:8080/"
    },
    "id": "BMKtu8B8PUEL",
    "outputId": "ba607af5-732a-4982-f316-177ea35a8014"
   },
   "outputs": [
    {
     "name": "stderr",
     "output_type": "stream",
     "text": [
      "No model was supplied, defaulted to distilbert/distilbert-base-cased-distilled-squad and revision 626af31 (https://huggingface.co/distilbert/distilbert-base-cased-distilled-squad).\n",
      "Using a pipeline without specifying a model name and revision in production is not recommended.\n"
     ]
    },
    {
     "name": "stdout",
     "output_type": "stream",
     "text": [
      "{'score': 0.35624822974205017, 'start': 187, 'end': 223, 'answer': 'a beautiful city on the Aegean coast'}\n"
     ]
    }
   ],
   "source": [
    "# Load the question-answering pipeline\n",
    "qa_pipeline = pipeline(\"question-answering\")\n",
    "\n",
    "# Define the question and context\n",
    "question = \"How is Izmir city?\"\n",
    "context = \"\"\"\n",
    "My name is Merve, and I have lived in several cities throughout my life. I was born in Ankara, the capital of Turkey,\n",
    "where I spent my early childhood. Later, my family moved to İzmir, a beautiful city on the Aegean coast, known for its vibrant culture\n",
    "and historical sites. After completing my high school education in İzmir, I decided to pursue my university studies in İstanbul. İstanbul,\n",
    "a city that straddles two continents, Europe and Asia, has been my home ever since. It is a bustling metropolis with a rich history and\n",
    "diverse population. I currently work as a software engineer in a tech company based in İstanbul, and I enjoy exploring the city's many\n",
    "neighborhoods and landmarks during my free time.\n",
    "\"\"\"\n",
    "\n",
    "# Run the pipeline\n",
    "result = qa_pipeline(question=question, context=context)\n",
    "\n",
    "# Print the result\n",
    "print(result)"
   ]
  },
  {
   "cell_type": "code",
   "execution_count": null,
   "metadata": {
    "colab": {
     "base_uri": "https://localhost:8080/"
    },
    "id": "gMJUzYfURbpK",
    "outputId": "15f047bb-809f-4fa1-d4b3-1ef1aabd3d49"
   },
   "outputs": [
    {
     "name": "stderr",
     "output_type": "stream",
     "text": [
      "No model was supplied, defaulted to distilbert/distilbert-base-cased-distilled-squad and revision 626af31 (https://huggingface.co/distilbert/distilbert-base-cased-distilled-squad).\n",
      "Using a pipeline without specifying a model name and revision in production is not recommended.\n"
     ]
    },
    {
     "name": "stdout",
     "output_type": "stream",
     "text": [
      "{'score': 0.4373992085456848, 'start': 303, 'end': 331, 'answer': 'savings, family, and friends'}\n"
     ]
    }
   ],
   "source": [
    "# Load the question-answering pipeline\n",
    "qa_pipeline = pipeline(\"question-answering\")\n",
    "\n",
    "# Define the question and context\n",
    "question = \"What are the initial sources of funding for startups?\"\n",
    "context = \"\"\"\n",
    "Startups are nascent business entities founded by entrepreneurs with innovative ideas, often focusing on a unique product or service.\n",
    "These companies typically begin with substantial expenses and limited revenue, necessitating external financial support.\n",
    "Initial funding often comes from the founders' savings, family, and friends. As startups grow, they seek additional funding from\n",
    "venture capitalists, angel investors, and crowdfunding platforms. Venture capitalists and angel investors provide seed money in\n",
    "exchange for equity, helping startups to finance early steps like product development, market research, and marketing.\n",
    "Silicon Valley is renowned for its robust venture capital ecosystem, making it a popular destination for startups.\n",
    "Startups can also secure loans from banks or microloans from organizations like the U.S. Small Business Administration.\n",
    "The funding process is divided into stages, including pre-seed, seed, Series A, B, and beyond, each catering to different\n",
    "growth phases and financial needs. Successful startups often exhibit scalability, meaning they can expand operations with limited\n",
    "additional investment. Despite the high risks, startups offer unique work environments and the potential for significant returns.\n",
    "Entrepreneurs must navigate various challenges, including securing capital, developing a business model, and managing stress, to bring\n",
    "their groundbreaking ideas to market.\n",
    "\"\"\"\n",
    "\n",
    "# Run the pipeline\n",
    "result = qa_pipeline(question=question, context=context)\n",
    "\n",
    "# Print the result\n",
    "print(result)"
   ]
  },
  {
   "cell_type": "code",
   "execution_count": null,
   "metadata": {
    "colab": {
     "base_uri": "https://localhost:8080/",
     "height": 249,
     "referenced_widgets": [
      "9a791891fe6a471898b22f34a03e6586",
      "e69b34360dc647a78ec6068a1531c9e1",
      "3e432e3883b24e7c86395d247b396c13",
      "a083529f2ac1414aa73aa064da4b498f",
      "cc8ae17a66f3402c8df37a608ed6ba3f",
      "a17ccd8b5a364648b2fffe0d86c81e62",
      "49fba19b6d024bbfa646c321dfff508b",
      "8c41a3d6fa174defb67d64e373fa287a",
      "3e165d41ce284d378a0af26582c827c4",
      "ae167e3ae96e46c7be3744f6b0435c8b",
      "5f445edad629419badb3b448056b0243",
      "2e5268bf53064b11a17209766671dad2",
      "cb49d195752a451e948299476d2d72cc",
      "6035b46e83f442c7a32dbc2d3c80ca70",
      "cec7041fa884442da75206ef9f3a2a9d",
      "f541173f267445408ae5032d32d3fa56",
      "8d93f5c41f24408c9ac5f10f8caf9201",
      "6816f33b8a134ebc935edc708120fc4b",
      "033da60a07db41228bb6426e3c4ddc48",
      "bc2d0713cf5344bfb504aa5753932114",
      "8c61e45c1aab468487ca98e11963e1c0",
      "964749639a124b3aa37d819018b9159a",
      "2423a2a71f4743a9863ef0c94d81715b",
      "bb4412e93cf1427facd06b0d2de8e889",
      "0efd39e61e68448f95ee90861b4b949a",
      "e0d0d7a8533248cfbd91abc1637bf0bf",
      "b7a1b52757c14ede875fc796f05bdef3",
      "46e0836591604683a9126ba18c68e890",
      "404477ef9e6845afb02a819ddc274f3f",
      "ee74503ff476416f850a117d6b82e8ea",
      "5ea7fe313f274a1790a9ef0154e4038f",
      "7598e1ed78ab41ec9ebbaddf9bcd5f0a",
      "59e7e465ae9a4c5eb80545bec18f3b4a",
      "54a3539353a94bf8b2437bcd10b72b16",
      "dc8a6e7d9cae48fabdbd3aef9d564a65",
      "e5fd7b536d4043edafed333c7be6fa85",
      "e868e43410204feea32d6dba7e11d97a",
      "526d13b76b984b4da47059a4f8e4847d",
      "c65d3e932ac143d3999d5f99669bbc50",
      "6828d22046b34e5b86b017ab446cf39a",
      "2e0840094d804ac2a50960b73c146594",
      "4f1a574ba51d41c8af124d1d6daa03eb",
      "8f8be324ce9940b0a08eeec8f7547c1a",
      "aa62f51e6ffe4d3e8b990e6d5e145d66",
      "5362fb27c8bb400ab4943dc757af6663",
      "1edbcfab05574b6499ce277e594fb039",
      "ebebac2c4dd44eb287437cd0a4297e06",
      "279ddfc8f816435cb18d677835d8657b",
      "670913b2db6c4a56ae2b590eaa236524",
      "3a90f1bdecc34bf58e107e7bbb3b87b9",
      "6f682cece33242578369f30521e62ee2",
      "35dfcf1c97b24d6381dc1b77ae353bb0",
      "dd2950ca9d7f4384a0b61122c78d19f7",
      "f95a360c244549aa90dfed02fd60b228",
      "c0e65ddfcc064368ac918f8485d3ba16"
     ]
    },
    "id": "jLGxwfBAxlfj",
    "outputId": "49bb49ab-0c31-4b49-a441-f110483ea586"
   },
   "outputs": [
    {
     "name": "stderr",
     "output_type": "stream",
     "text": [
      "No model was supplied, defaulted to distilbert/distilbert-base-cased-distilled-squad and revision 626af31 (https://huggingface.co/distilbert/distilbert-base-cased-distilled-squad).\n",
      "Using a pipeline without specifying a model name and revision in production is not recommended.\n"
     ]
    },
    {
     "data": {
      "application/vnd.jupyter.widget-view+json": {
       "model_id": "9a791891fe6a471898b22f34a03e6586",
       "version_major": 2,
       "version_minor": 0
      },
      "text/plain": [
       "config.json:   0%|          | 0.00/473 [00:00<?, ?B/s]"
      ]
     },
     "metadata": {},
     "output_type": "display_data"
    },
    {
     "data": {
      "application/vnd.jupyter.widget-view+json": {
       "model_id": "2e5268bf53064b11a17209766671dad2",
       "version_major": 2,
       "version_minor": 0
      },
      "text/plain": [
       "model.safetensors:   0%|          | 0.00/261M [00:00<?, ?B/s]"
      ]
     },
     "metadata": {},
     "output_type": "display_data"
    },
    {
     "data": {
      "application/vnd.jupyter.widget-view+json": {
       "model_id": "2423a2a71f4743a9863ef0c94d81715b",
       "version_major": 2,
       "version_minor": 0
      },
      "text/plain": [
       "tokenizer_config.json:   0%|          | 0.00/49.0 [00:00<?, ?B/s]"
      ]
     },
     "metadata": {},
     "output_type": "display_data"
    },
    {
     "data": {
      "application/vnd.jupyter.widget-view+json": {
       "model_id": "54a3539353a94bf8b2437bcd10b72b16",
       "version_major": 2,
       "version_minor": 0
      },
      "text/plain": [
       "vocab.txt:   0%|          | 0.00/213k [00:00<?, ?B/s]"
      ]
     },
     "metadata": {},
     "output_type": "display_data"
    },
    {
     "data": {
      "application/vnd.jupyter.widget-view+json": {
       "model_id": "5362fb27c8bb400ab4943dc757af6663",
       "version_major": 2,
       "version_minor": 0
      },
      "text/plain": [
       "tokenizer.json:   0%|          | 0.00/436k [00:00<?, ?B/s]"
      ]
     },
     "metadata": {},
     "output_type": "display_data"
    },
    {
     "name": "stdout",
     "output_type": "stream",
     "text": [
      "{'score': 0.8062050342559814, 'start': 312, 'end': 330, 'answer': 'store patient data'}\n"
     ]
    }
   ],
   "source": [
    "from transformers import pipeline\n",
    "\n",
    "# Load the question-answering pipeline\n",
    "qa_pipeline = pipeline(\"question-answering\")\n",
    "\n",
    "# Define the question and context\n",
    "question = \"What are electronic health records used for?\"\n",
    "context = \"\"\"\n",
    "The medical field is vast and complex, encompassing various specialties, treatments, and research areas. Medical professionals rely on accurate and up-to-date information to diagnose and treat patients effectively. One critical aspect of the medical domain is the use of electronic health records (EHRs), which store patient data, including medical history, diagnoses, medications, treatment plans, immunization dates, allergies, radiology images, and laboratory test results. EHRs facilitate the sharing of patient information among healthcare providers, improving the coordination of care and patient outcomes.\n",
    "\n",
    "Medical research is another crucial component, with continuous advancements in understanding diseases, developing new treatments, and improving existing therapies. Clinical trials play a significant role in this process, testing the safety and efficacy of new drugs and medical devices. These trials are conducted in phases, starting with small groups of healthy volunteers and progressing to larger groups of patients. The results of clinical trials are published in medical journals and contribute to evidence-based medicine, guiding clinical practice.\n",
    "\n",
    "Medical imaging is an essential diagnostic tool, including techniques such as X-rays, computed tomography (CT) scans, magnetic resonance imaging (MRI), and ultrasound. These imaging modalities help visualize the internal structures of the body, aiding in the diagnosis and monitoring of diseases. Radiologists, who specialize in interpreting medical images, play a vital role in patient care by providing accurate diagnoses and recommendations for further treatment.\n",
    "\n",
    "In the realm of medical treatments, pharmaceuticals are a cornerstone. The development of new drugs involves extensive research and testing to ensure their safety and effectiveness. Pharmacology, the study of drugs and their effects on the body, is a critical field that informs the development and use of medications. Pharmacists, who are experts in medication management, work closely with healthcare providers to ensure patients receive the correct medications and understand how to use them properly.\n",
    "\n",
    "Surgery is another critical area of medicine, with various specialties such as general surgery, orthopedic surgery, neurosurgery, and cardiovascular surgery. Surgeons perform operations to treat injuries, diseases, and deformities, often using advanced techniques and technologies. Minimally invasive surgery, which involves smaller incisions and quicker recovery times, has become increasingly popular in recent years.\n",
    "\n",
    "Preventive medicine focuses on preventing diseases and promoting health through measures such as vaccinations, screenings, and lifestyle modifications. Public health initiatives aim to improve the health of populations by addressing factors such as nutrition, physical activity, and environmental health. Epidemiology, the study of disease patterns and causes in populations, is a key discipline in public health that helps identify risk factors and develop strategies to control and prevent diseases.\n",
    "\n",
    "Mental health is an integral part of overall health, with conditions such as depression, anxiety, and schizophrenia affecting millions of people worldwide. Mental health professionals, including psychiatrists, psychologists, and counselors, provide diagnosis, treatment, and support for individuals with mental health conditions. Psychotherapy, medication, and lifestyle changes are common approaches to managing mental health issues.\n",
    "\n",
    "The integration of technology in healthcare has led to significant advancements, such as telemedicine, which allows patients to consult with healthcare providers remotely. This has been particularly beneficial during the COVID-19 pandemic, enabling continued access to care while minimizing the risk of infection. Health informatics, the use of information technology to manage and analyze health data, is another growing field that supports the efficient delivery of healthcare services.\n",
    "\n",
    "Medical education and training are essential for preparing healthcare professionals to provide high-quality care. Medical students undergo rigorous education and training, including classroom instruction, laboratory work, and clinical rotations. Continuing medical education (CME) ensures that healthcare providers stay current with the latest advancements and best practices in their fields.\n",
    "\n",
    "Ethics in medicine is a fundamental consideration, guiding the conduct of healthcare providers and researchers. Ethical principles such as autonomy, beneficence, non-maleficence, and justice ensure that patients are treated with respect and fairness. Informed consent, confidentiality, and the right to refuse treatment are critical aspects of medical ethics that protect patient rights.\n",
    "\n",
    "In summary, the medical domain is a multifaceted field that encompasses patient care, research, diagnostics, treatments, and public health. Continuous advancements in medical science and technology drive improvements in patient outcomes and the overall quality of healthcare. Healthcare professionals, researchers, and policymakers work together to address the challenges and opportunities in this dynamic field, striving to enhance the health and well-being of individuals and communities.\n",
    "\"\"\"\n",
    "\n",
    "# Run the pipeline\n",
    "result = qa_pipeline(question=question, context=context)\n",
    "\n",
    "# Print the result\n",
    "print(result)"
   ]
  },
  {
   "cell_type": "markdown",
   "metadata": {
    "id": "Z9gNULaPSDM8"
   },
   "source": [
    "### **Task 1.5: Text Summarization**"
   ]
  },
  {
   "cell_type": "code",
   "execution_count": null,
   "metadata": {
    "colab": {
     "base_uri": "https://localhost:8080/",
     "height": 246,
     "referenced_widgets": [
      "35d13b9ea2a74fd9b6843533e4dfab1d",
      "281f876b398646adac13a9b348797cd3",
      "f90ee01a3aed4bf6a1452b185e66da7a",
      "bf9d1a14a63c4ab193efd70baf30ed7d",
      "5076e571d8684e34b8c0855cca924b6e",
      "491df79d954444aab0c2b64b3633f1f6",
      "47adb9255286419ebd0ad526c8b122cc",
      "aeb7e9252ba14971b4ac922c023933a1",
      "04399ba03cf74ab4834a4a6948bcf2d3",
      "5db36cf7c9a04be2b6a5662c3fdc377e",
      "7d88f4c5c9ba437ca1443b102191d1b7",
      "08b9bb777ce8402caac63aeef9dd0943",
      "15eceb1e8795429da2d69afdf849fe19",
      "fb8f08b46c4a499992c409918af5e036",
      "107bdc1316dd4138b9d7e222562f89a7",
      "23aa460f65aa4e5aa473e751c109bba2",
      "472c73c49a55474f8b0887c78bc1c9ec",
      "3c36b9a89d1940a3906ee0e9d5a16911",
      "527e7511689a41dea1e0a346afe681ad",
      "d05604d687de408ba67f69dae4dc8f6c",
      "89a95757ccba43a585a6f1776c45c4b4",
      "a1f170548cc84bebbf5fb51e47d24653",
      "d1216a385b46419288cbd8fe7e65ad0e",
      "4b2d7c1ebdee4fcf9ac5227c7423ea43",
      "2f866a4de2164b3895eb2bcd10c99dee",
      "27bc384d52d34d5c82cff63aa8274822",
      "7e10ab79a1fe41a59814aea7dd3bda00",
      "b5e41227e4d64e6ca2d037936304edcf",
      "b2901e3a04e64ccba067ca2070dc6ea5",
      "f0d88f4109e2439d97c3f40335479929",
      "b68e36e951584393bd375ab8d7f79438",
      "7b3f6cf9c7174b59a0162ec79fc7cc7e",
      "6b6f2d8b047146149f2f11427f1eda6a",
      "f83599228be0463c981b43dcb5dc48d6",
      "9b0cf98cb09a4a978c39524a04cf162d",
      "ee4c8f91aa9d4a40a3bf6084f25aaa41",
      "f0459412ef7b4eaba86dd1007d6760c2",
      "b8b650dbc3de41668de360db7a6c7348",
      "7ba7aa88c5a04ceba296e7e71cbfa7ad",
      "82dd6110838b4085bdc9e054badf7a78",
      "bdfe022b5a9a4ab0b78844bf2b33b101",
      "d0ff687a568f4bc7befc6df6d7a40861",
      "f00b0419c4ec45d0b186f5ca1e7f2f3c",
      "578ad4206e53410bb1fde74c4b3ce09c",
      "55a3cfcf13bf424780ad97327d001bad",
      "c83fe75bd2a14095aeb11928fdeb98b4",
      "9b550971ddef4530bd325cd91ecef799",
      "fd38bd0624b241059d745c8c35a8f145",
      "86ae250142b44cc1bd85ac48d2ba14c1",
      "5ba597931a664e8696959ac866c94d72",
      "b21eb4f45d974a809c71745a51cff5ce",
      "ab3ec04a370941109899b4aca5c9f92d",
      "ae2128d6c5a04418b51146dd9f5b2c75",
      "e010f21b755d4e72b6e6e5e23f62b3f3",
      "7821c4e89a6d4bff9adefdc0e7a37bfd",
      "30d9a236d67e49b392024772c3a65ab1",
      "45a5d2bc250d41028b337b7beb734367",
      "9007c0c85ac74644bcdea3015f6f3699",
      "662c50b4116b4762a10f16e453b73481",
      "f9050daa52d041019e76d37b86687949",
      "7726696364694e12997722ec9f8ec896",
      "1602b274cfbb423598b4090cd4a6f15a",
      "f331b1c7a5b24491b64a6ea50d77b670",
      "748b225bd05e4e558279ef55e68f1d94",
      "61668573d1524bc489d3d9dffe26cfbe",
      "3c92939168af4d1096dcdb17b54f4e25"
     ]
    },
    "id": "UL1W_GVYSCEd",
    "outputId": "1048f0e9-02bb-41a1-c9c9-1b6abababcc9"
   },
   "outputs": [
    {
     "data": {
      "application/vnd.jupyter.widget-view+json": {
       "model_id": "35d13b9ea2a74fd9b6843533e4dfab1d",
       "version_major": 2,
       "version_minor": 0
      },
      "text/plain": [
       "config.json:   0%|          | 0.00/1.58k [00:00<?, ?B/s]"
      ]
     },
     "metadata": {},
     "output_type": "display_data"
    },
    {
     "data": {
      "application/vnd.jupyter.widget-view+json": {
       "model_id": "08b9bb777ce8402caac63aeef9dd0943",
       "version_major": 2,
       "version_minor": 0
      },
      "text/plain": [
       "model.safetensors:   0%|          | 0.00/1.63G [00:00<?, ?B/s]"
      ]
     },
     "metadata": {},
     "output_type": "display_data"
    },
    {
     "data": {
      "application/vnd.jupyter.widget-view+json": {
       "model_id": "d1216a385b46419288cbd8fe7e65ad0e",
       "version_major": 2,
       "version_minor": 0
      },
      "text/plain": [
       "generation_config.json:   0%|          | 0.00/363 [00:00<?, ?B/s]"
      ]
     },
     "metadata": {},
     "output_type": "display_data"
    },
    {
     "data": {
      "application/vnd.jupyter.widget-view+json": {
       "model_id": "f83599228be0463c981b43dcb5dc48d6",
       "version_major": 2,
       "version_minor": 0
      },
      "text/plain": [
       "vocab.json:   0%|          | 0.00/899k [00:00<?, ?B/s]"
      ]
     },
     "metadata": {},
     "output_type": "display_data"
    },
    {
     "data": {
      "application/vnd.jupyter.widget-view+json": {
       "model_id": "55a3cfcf13bf424780ad97327d001bad",
       "version_major": 2,
       "version_minor": 0
      },
      "text/plain": [
       "merges.txt:   0%|          | 0.00/456k [00:00<?, ?B/s]"
      ]
     },
     "metadata": {},
     "output_type": "display_data"
    },
    {
     "data": {
      "application/vnd.jupyter.widget-view+json": {
       "model_id": "30d9a236d67e49b392024772c3a65ab1",
       "version_major": 2,
       "version_minor": 0
      },
      "text/plain": [
       "tokenizer.json:   0%|          | 0.00/1.36M [00:00<?, ?B/s]"
      ]
     },
     "metadata": {},
     "output_type": "display_data"
    },
    {
     "name": "stdout",
     "output_type": "stream",
     "text": [
      "[{'summary_text': \"Startups are nascent business entities founded by entrepreneurs with innovative ideas. Initial funding often comes from the founders' savings, family, and friends. As startups grow, they seek additional funding from venture capitalists, angel investors, and crowdfunding platforms.\"}]\n"
     ]
    }
   ],
   "source": [
    "from transformers import pipeline\n",
    "\n",
    "# Load the summarization pipeline\n",
    "summarizer = pipeline(\"summarization\", model=\"facebook/bart-large-cnn\")\n",
    "\n",
    "# Define the text to be summarized\n",
    "text = \"\"\"\n",
    "Startups are nascent business entities founded by entrepreneurs with innovative ideas, often focusing on a unique product or service. These companies typically begin with substantial expenses and limited revenue, necessitating external financial support. Initial funding often comes from the founders' savings, family, and friends. As startups grow, they seek additional funding from venture capitalists, angel investors, and crowdfunding platforms. Venture capitalists and angel investors provide seed money in exchange for equity, helping startups to finance early steps like product development, market research, and marketing. Silicon Valley is renowned for its robust venture capital ecosystem, making it a popular destination for startups. Startups can also secure loans from banks or microloans from organizations like the U.S. Small Business Administration. The funding process is divided into stages, including pre-seed, seed, Series A, B, and beyond, each catering to different growth phases and financial needs. Successful startups often exhibit scalability, meaning they can expand operations with limited additional investment. Despite the high risks, startups offer unique work environments and the potential for significant returns. Entrepreneurs must navigate various challenges, including securing capital, developing a business model, and managing stress, to bring their groundbreaking ideas to market.\n",
    "\"\"\"\n",
    "\n",
    "# Run the pipeline\n",
    "summary = summarizer(text, max_length=130, min_length=30, do_sample=False)\n",
    "\n",
    "# Print the result\n",
    "print(summary)"
   ]
  },
  {
   "cell_type": "markdown",
   "metadata": {
    "id": "hsa4ixZSycwg"
   },
   "source": [
    "Startups are nascent business entities founded by entrepreneurs with innovative ideas, often focusing on a unique product or service. These companies typically begin with substantial expenses and limited revenue, necessitating external financial support. Initial funding often comes from the founders' savings, family, and friends. As startups grow, they seek additional funding from venture capitalists, angel investors, and crowdfunding platforms. Venture capitalists and angel investors provide seed money in exchange for equity, helping startups to finance early steps like product development, market research, and marketing. Silicon Valley is renowned for its robust venture capital ecosystem, making it a popular destination for startups. Startups can also secure loans from banks or microloans from organizations like the U.S. Small Business Administration. The funding process is divided into stages, including pre-seed, seed, Series A, B, and beyond, each catering to different growth phases and financial needs. Successful startups often exhibit scalability, meaning they can expand operations with limited additional investment. Despite the high risks, startups offer unique work environments and the potential for significant returns. Entrepreneurs must navigate various challenges, including securing capital, developing a business model, and managing stress, to bring their groundbreaking ideas to market."
   ]
  },
  {
   "cell_type": "markdown",
   "metadata": {
    "id": "ZU84mJylKJ2m"
   },
   "source": [
    "## **Task 2: Looking inside the pipeline with Tensorflow API**\n",
    "\n",
    "\n",
    "So far we have used pipeline with the model name to perform different NLP tasks like `text-classification`, `text-generation` & `fill-mask`. We understood that it automatically performs the necessary preprocessing, tokenization, and model inference steps for a given task.\n",
    "\n",
    "However, we are not aware of what's happening inside the pipeline object. How it does all this operation automatically?\n",
    "\n",
    "\n",
    "However, it's important to understand the internal workings of the pipeline object in order to use it effectively for various NLP tasks. By understanding the internal steps, we can also customize the pipeline to better suit our specific use case.\n",
    "\n",
    "*So let's explore what's the magic inside pipeline.*"
   ]
  },
  {
   "cell_type": "markdown",
   "metadata": {
    "id": "JqcLyXm9Pa-t"
   },
   "source": [
    "Pipelines are made of:\n",
    "\n",
    "* A **tokenizer** : The tokenizer is responsible for converting raw textual input into tokens. It performs tokenization, which involves splitting the input text into smaller units called tokens. The tokenizer maps the tokens to their corresponding numerical representations, allowing the model to process them. Tokenization is a critical step in NLP, as it helps the model understand and process the text effectively.\n",
    "\n",
    "* A **model** : The model is the core component of the pipeline. It takes the tokenized input and makes predictions based on the task at hand. For example, in text classification, the model predicts the sentiment of the input sentences. The model has been trained on large amounts of data and has learned patterns and relationships to make accurate predictions.\n",
    "\n",
    "* **Post-processing**: The pipeline may include some optional post-processing steps to enhance the model's output. This could involve converting the model's predictions into more human-readable formats, applying thresholding or normalization techniques, or performing any other necessary operations to refine the output..\n",
    "\n",
    "![image.png](data:image/png;base64,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)\n",
    "\n",
    "\n"
   ]
  },
  {
   "cell_type": "markdown",
   "metadata": {
    "id": "ujBiwIQMnkCD"
   },
   "source": [
    "Let's understand each of these components one by one with a problem statement of **Classifying the input sentences into positive and negative sentiments**"
   ]
  },
  {
   "cell_type": "markdown",
   "metadata": {
    "id": "xF9wRVJDWMzb"
   },
   "source": [
    "### **Task 2.1 Tokenization**\n",
    "\n",
    "The first step in the pipeline is tokenization. Tokenization is the process of breaking down raw text into individual units called tokens, which can be processed by machine learning models. The tokenizer takes raw text input and outputs tokens, input ids, attention mask, and token type ids."
   ]
  },
  {
   "cell_type": "markdown",
   "metadata": {
    "id": "xL4Z5WL7YYdJ"
   },
   "source": [
    "When working with natural language processing tasks, it's often necessary to tokenize the text data by splitting it into individual words or subwords, and then encode those tokens into numerical representations that can be fed into a machine learning model.\n",
    "\n",
    "However, different tasks and models may require different tokenization schemes or tokenizers which may not be aware of. This is where the `AutoTokenizer.from_pretrained()` method comes into the picture. It automatically identifies the relevant tokenization technique pertaining to a specific model using the model’s checkpoint name."
   ]
  },
  {
   "cell_type": "code",
   "execution_count": null,
   "metadata": {
    "colab": {
     "base_uri": "https://localhost:8080/",
     "height": 272,
     "referenced_widgets": [
      "0ba90d9e4776431fac27e844e7d4d6f7",
      "e3b2c27d777344bbb3e0ab468d1a1c9b",
      "51cf0ae3ea1743eea3cdff1bb97f25a2",
      "795488614ea94fa2af8a9ebcc7cabad1",
      "4ebdea1481f94127a09403769ed3a25c",
      "5a6ae77c41fa409290f3789dc824180d",
      "2e6b0acc67cc48459e4e5f4e9b03e29c",
      "7a641233b40141908edf31f763033348",
      "aff9727be003401e81469a8563784c08",
      "af00309058fd4609a52443c6d015b6d5",
      "671151cdacd14535a69ca1c86b14a2fe",
      "0327ef0e12344d75a3952f1cb07b7faf",
      "0594d58469cc4c35abd4747858c5a5b6",
      "2e93e699ca6f47bba3d51865911ec30f",
      "3d45ee1162584c209c0c5772593205a2",
      "fe35b0335a3a4b98a6a8f7d48fbff6f7",
      "96868771820a47768906c074d2d75159",
      "341694bc6c904b3e88b4fc798e2e8b78",
      "5e64a66484ad44b8b77dd4b06e433a06",
      "7379548bafe14892a721ed1f141b3670",
      "70ca74d3e20743bd8e074f045c8adedb",
      "8d0a3c18e4fa48a2952933cb619e88f4",
      "63ad2e1c1cba49199fd4bc13da33a54a",
      "f3a94b76d89a47f1b6cfa7f316a52246",
      "21e7cd1766854ac69bf65613e8ca3ce6",
      "c2e0ab57132146a9b02b0b55650a03b9",
      "36d8f0e78f46462481aae93e136d7883",
      "8a813210d9a541f8b46b362539ebffd5",
      "701bd69952b14183b4153c25bd17b2b4",
      "c98e440febff4bcfa9afc51c6f6011b0",
      "df1b2cf3848e45feb68d42e05ebf7d1f",
      "22478753b275484788c1170968847aa3",
      "32607ccc87724ac88e8316d505ad6e59"
     ]
    },
    "id": "MFQfc69cYaRY",
    "outputId": "eeea65a6-5831-4089-a2f9-ab500bd35360"
   },
   "outputs": [
    {
     "name": "stderr",
     "output_type": "stream",
     "text": [
      "/usr/local/lib/python3.10/dist-packages/huggingface_hub/utils/_token.py:89: UserWarning: \n",
      "The secret `HF_TOKEN` does not exist in your Colab secrets.\n",
      "To authenticate with the Hugging Face Hub, create a token in your settings tab (https://huggingface.co/settings/tokens), set it as secret in your Google Colab and restart your session.\n",
      "You will be able to reuse this secret in all of your notebooks.\n",
      "Please note that authentication is recommended but still optional to access public models or datasets.\n",
      "  warnings.warn(\n"
     ]
    },
    {
     "data": {
      "application/vnd.jupyter.widget-view+json": {
       "model_id": "0ba90d9e4776431fac27e844e7d4d6f7",
       "version_major": 2,
       "version_minor": 0
      },
      "text/plain": [
       "tokenizer_config.json:   0%|          | 0.00/48.0 [00:00<?, ?B/s]"
      ]
     },
     "metadata": {},
     "output_type": "display_data"
    },
    {
     "name": "stderr",
     "output_type": "stream",
     "text": [
      "/usr/local/lib/python3.10/dist-packages/huggingface_hub/file_download.py:1132: FutureWarning: `resume_download` is deprecated and will be removed in version 1.0.0. Downloads always resume when possible. If you want to force a new download, use `force_download=True`.\n",
      "  warnings.warn(\n"
     ]
    },
    {
     "data": {
      "application/vnd.jupyter.widget-view+json": {
       "model_id": "0327ef0e12344d75a3952f1cb07b7faf",
       "version_major": 2,
       "version_minor": 0
      },
      "text/plain": [
       "config.json:   0%|          | 0.00/629 [00:00<?, ?B/s]"
      ]
     },
     "metadata": {},
     "output_type": "display_data"
    },
    {
     "data": {
      "application/vnd.jupyter.widget-view+json": {
       "model_id": "63ad2e1c1cba49199fd4bc13da33a54a",
       "version_major": 2,
       "version_minor": 0
      },
      "text/plain": [
       "vocab.txt:   0%|          | 0.00/232k [00:00<?, ?B/s]"
      ]
     },
     "metadata": {},
     "output_type": "display_data"
    }
   ],
   "source": [
    "# Import the required libraries\n",
    "from transformers import AutoTokenizer\n",
    "\n",
    "# Instantiate a BERT tokenizer\n",
    "tokenizer = AutoTokenizer.from_pretrained('distilbert-base-uncased-finetuned-sst-2-english')\n"
   ]
  },
  {
   "cell_type": "markdown",
   "metadata": {
    "id": "9RxqzzMyYeBs"
   },
   "source": [
    "Here, we import the BertTokenizer class from the transformers library and create an instance of the tokenizer by specifying the pre-trained model bert-base-uncased.\n",
    "\n",
    "\n",
    "Once we have imported the tokenizer, the next job is to define the input sentence that our tokenizer should encode:\n"
   ]
  },
  {
   "cell_type": "code",
   "execution_count": null,
   "metadata": {
    "id": "9mPI11ViYxLr"
   },
   "outputs": [],
   "source": [
    "# Define multiple sentences as a single list\n",
    "input_sentences = [\n",
    "    \"I hate this movie\",\n",
    "    \"This Course is helping me learn new and wonderful things.\",\n",
    "]"
   ]
  },
  {
   "cell_type": "markdown",
   "metadata": {
    "id": "eNGT8dHoZB8F"
   },
   "source": [
    "#### **Task 2.1.1: Input Encoding**\n",
    "Once we have the tokenizer, we can use it to encode the input sentences. The tokenizer takes care of mapping the tokens to their corresponding IDs, adding special tokens such as `[CLS]` and `[SEP]` and producing the attention mask and token type ids.\n",
    "\n",
    "But what are they?"
   ]
  },
  {
   "cell_type": "markdown",
   "metadata": {
    "id": "V0atH_yJZMF_"
   },
   "source": [
    "Broadly we have to create the input tensors required for model inference. The input tensor consists of three components: **input_ids, attention_mask, and token_type_ids.**\n",
    "\n",
    "1. **Input IDs:** These are the unique integer values assigned to each token in the input sentence by the tokenizer. Each token in the input sentence is mapped to a unique integer value.\n",
    "\n",
    "2. **Attention Mask:** This tensor is used to indicate which tokens in the input sentence are actual tokens and which ones are padding tokens. The padding tokens are marked as 0 in the attention mask tensor, and the actual tokens are marked as 1.\n",
    "\n",
    "3. **Token Type IDs:** This tensor is used when we are passing input multiple sentences as input to the model. In our case, we are passing only a single list sentence, so we don't need to use this tensor.\n",
    "\n",
    "We will use the `call()` method of the model to perform the inference. The `call()` method takes the input tensors as input and returns the predicted class labels for each input sentence.\n",
    "\n",
    "Let's create the input tensors using the tokenizer() method and the two input sentences we defined earlier:"
   ]
  },
  {
   "cell_type": "code",
   "execution_count": null,
   "metadata": {
    "id": "S058j3RJ2-rt"
   },
   "outputs": [],
   "source": [
    "input_sentences = [\n",
    "    \"I hate this movie\",\n",
    "    \"This Course is helping me learn new and wonderful things.\",\n",
    "]"
   ]
  },
  {
   "cell_type": "code",
   "execution_count": null,
   "metadata": {
    "colab": {
     "base_uri": "https://localhost:8080/"
    },
    "id": "tyl1M9AUZK38",
    "outputId": "b8437d0e-7089-4650-d10c-f6e18841fab8"
   },
   "outputs": [
    {
     "name": "stdout",
     "output_type": "stream",
     "text": [
      "{'input_ids': <tf.Tensor: shape=(2, 12), dtype=int32, numpy=\n",
      "array([[ 101, 1045, 5223, 2023, 3185,  102,    0,    0,    0,    0,    0,\n",
      "           0],\n",
      "       [ 101, 2023, 2607, 2003, 5094, 2033, 4553, 2047, 1998, 6919, 2477,\n",
      "         102]], dtype=int32)>, 'attention_mask': <tf.Tensor: shape=(2, 12), dtype=int32, numpy=\n",
      "array([[1, 1, 1, 1, 1, 1, 0, 0, 0, 0, 0, 0],\n",
      "       [1, 1, 1, 1, 1, 1, 1, 1, 1, 1, 1, 1]], dtype=int32)>}\n"
     ]
    }
   ],
   "source": [
    "# Encode the input sentences using the tokenizer\n",
    "# The tokenizer maps tokens to their corresponding IDs, adds special tokens such as [CLS] and [SEP],\n",
    "# and produces the attention mask and token type ids\n",
    "\n",
    "inputs = tokenizer(\n",
    "    input_sentences,                            # list of input sentences\n",
    "    add_special_tokens=True,                    # add special tokens\n",
    "    max_length=12,                              # truncate to maximum length of 32 tokens\n",
    "    padding=True,                               # Add padding to the tokens so that all inputs have same length\n",
    "    truncation=True,                            # Truncate inputs to max length of the tokenizer\n",
    "    return_tensors='tf'                         # return tensorflow tensors\n",
    ")\n",
    "\n",
    "print(inputs)"
   ]
  },
  {
   "cell_type": "code",
   "execution_count": null,
   "metadata": {
    "colab": {
     "base_uri": "https://localhost:8080/"
    },
    "id": "vSSEwx6HZUjc",
    "outputId": "1d2e1521-fafe-47ba-8183-d86a8eaab179"
   },
   "outputs": [
    {
     "name": "stdout",
     "output_type": "stream",
     "text": [
      "input_ids:\n",
      "[[ 101 1045 5223 2023 3185  102    0    0    0    0    0    0]\n",
      " [ 101 2023 2607 2003 5094 2033 4553 2047 1998 6919 2477  102]]\n",
      "attention_mask:\n",
      "[[1 1 1 1 1 1 0 0 0 0 0 0]\n",
      " [1 1 1 1 1 1 1 1 1 1 1 1]]\n"
     ]
    }
   ],
   "source": [
    "# Extract the input ids and attention mask from the encoded inputs\n",
    "input_ids = inputs['input_ids']\n",
    "attention_mask = inputs['attention_mask']\n",
    "\n",
    "print(f\"input_ids:\\n{input_ids}\")\n",
    "print(f\"attention_mask:\\n{attention_mask}\")"
   ]
  },
  {
   "cell_type": "markdown",
   "metadata": {
    "id": "eMhSxuwgewhd"
   },
   "source": [
    "The output is a dictionary with two keys, **\"input_ids\"** and **\"attention_mask\"**. These are the outputs of the tokenizer that we just applied to the input sentences.\n",
    "\n",
    "* The output represents the tokenized version of the input sentence, where the  sentence has been converted into a sequence of integers that represent the corresponding tokens.\n",
    "\n",
    "* The `[CLS]` token is added at the beginning of each input sentence and the`[SEP]` token is added at the end of each input sentence, to mark the beginning and end of the sequence. Here the id 101 represent `[CLS]`, wheras 102 represents the `[SEP]` token.\n",
    "\n",
    "\n",
    "* The **\"input_ids\"** key contains a 2D Tensor of shape (2, 12), where the first dimension represents the number of samples/inputs passed and the second dimension represents the maximum length of tokens(max_length=12).\n",
    "\n",
    "* The length of the first sentence after tokenisation is less than max_length, therefore the remaining values(6) are padded by 0s. For the second sentence, no padding is applied since it's length is more than 12.  \n",
    "\n",
    "* The **\"attention_mask\"** is used to indicate which tokens in the input sequence are \"real\" tokens and which tokens are padding tokens."
   ]
  },
  {
   "cell_type": "markdown",
   "metadata": {
    "id": "aJMuJYQjHaZt"
   },
   "source": [
    "NOTE: If `padding=\"longest\"`, the tokenizer will **pad all input sequences to the length of the longest sequence** in the batch. For example, if the input batch has two sentences with lengths 8 and 12, the tokenizer will pad the first sentence with 4 [PAD] tokens at the end, so that its length is also 12.\n",
    "\n",
    "\n",
    "Read [this](https://huggingface.co/docs/transformers/pad_truncation) documentation to understand more on padding & truncation"
   ]
  },
  {
   "cell_type": "markdown",
   "metadata": {
    "id": "-DXydOOTKJ2p"
   },
   "source": [
    "### **Task 2.2:Model Inference**\n",
    "\n",
    "After tokenization, the encoded input is passed through the model to make predictions."
   ]
  },
  {
   "cell_type": "markdown",
   "metadata": {
    "id": "MShCIBjMh4kx"
   },
   "source": [
    "#### **Task 2.2.1: Model**\n",
    "We will use the `TFAutoModelForSequenceClassification` class from the transformers library, which is a pre-trained model specifically designed for sequence classification tasks."
   ]
  },
  {
   "cell_type": "code",
   "execution_count": null,
   "metadata": {
    "colab": {
     "base_uri": "https://localhost:8080/",
     "height": 138,
     "referenced_widgets": [
      "d239dea770f5410eb503ecd1a847cf4f",
      "94377eeac2044d06a8cc7a150fbf88a2",
      "e151943b7e2c4d07b02d960556f36912",
      "eb0c1e747b114e4d92091ddf6b59dad5",
      "6e8774cf52af4f2da0cbe7280efa6005",
      "d59775472832403f84f63ab5617af7de",
      "77d502123fab49d5b7654b53482c6b55",
      "18f72efad172423e818b4c96771e487d",
      "d72c04a87a7c479ca1a441520eefcfc2",
      "888a182f1c7f4e9090efc6948b0e4ab5",
      "510f34c1af35499799e73338d3bb331f"
     ]
    },
    "id": "QoVOGPTxifAb",
    "outputId": "ebc223ea-306b-47b4-fec3-bdd3fdfb81dc"
   },
   "outputs": [
    {
     "data": {
      "application/vnd.jupyter.widget-view+json": {
       "model_id": "d239dea770f5410eb503ecd1a847cf4f",
       "version_major": 2,
       "version_minor": 0
      },
      "text/plain": [
       "model.safetensors:   0%|          | 0.00/268M [00:00<?, ?B/s]"
      ]
     },
     "metadata": {},
     "output_type": "display_data"
    },
    {
     "name": "stderr",
     "output_type": "stream",
     "text": [
      "All PyTorch model weights were used when initializing TFDistilBertForSequenceClassification.\n",
      "\n",
      "All the weights of TFDistilBertForSequenceClassification were initialized from the PyTorch model.\n",
      "If your task is similar to the task the model of the checkpoint was trained on, you can already use TFDistilBertForSequenceClassification for predictions without further training.\n"
     ]
    }
   ],
   "source": [
    "# In order to get consistent results, we can set a random seed before calling the model.\n",
    "# Import the required libraries\n",
    "import random\n",
    "import numpy as np\n",
    "import tensorflow as tf\n",
    "\n",
    "from transformers import TFAutoModelForSequenceClassification\n",
    "\n",
    "random.seed(42)\n",
    "np.random.seed(42)\n",
    "tf.random.set_seed(42)\n",
    "\n",
    "# Instantiate a pre-trained BERT model for sequence classification\n",
    "model = TFAutoModelForSequenceClassification.from_pretrained('distilbert-base-uncased-finetuned-sst-2-english')"
   ]
  },
  {
   "cell_type": "markdown",
   "metadata": {
    "id": "DwirixlFiOQz"
   },
   "source": [
    "\n",
    "We will use the call() method of the model to perform the inference. The call() method takes the input tensors as input and returns the predicted class labels for each input sentence."
   ]
  },
  {
   "cell_type": "code",
   "execution_count": null,
   "metadata": {
    "colab": {
     "base_uri": "https://localhost:8080/"
    },
    "id": "mY8WOhfwiKx_",
    "outputId": "1a7b45b8-4b0c-4bb1-8891-b73f9e3fa6f4"
   },
   "outputs": [
    {
     "name": "stdout",
     "output_type": "stream",
     "text": [
      "tf.Tensor(\n",
      "[[ 4.4376183 -3.5746415]\n",
      " [-4.3574057  4.6843343]], shape=(2, 2), dtype=float32)\n"
     ]
    }
   ],
   "source": [
    "# Call the model with the input_ids and attention_mask tensors as inputs to get the output logits\n",
    "logits = model(input_ids, attention_mask)[0]\n",
    "print(logits)"
   ]
  },
  {
   "cell_type": "markdown",
   "metadata": {
    "id": "Owad5JtQiQfF"
   },
   "source": [
    "By default, the model returns the output logits, which are the unnormalized scores for each label. These scores are then passed through the softmax function to get the probabilities for each label."
   ]
  },
  {
   "cell_type": "code",
   "execution_count": null,
   "metadata": {
    "colab": {
     "base_uri": "https://localhost:8080/"
    },
    "id": "A4QriVSjiRln",
    "outputId": "2ddf69a8-92a5-4983-8330-68354fb81520"
   },
   "outputs": [
    {
     "name": "stdout",
     "output_type": "stream",
     "text": [
      "tf.Tensor(\n",
      "[[9.9966872e-01 3.3126536e-04]\n",
      " [1.1835064e-04 9.9988163e-01]], shape=(2, 2), dtype=float32)\n"
     ]
    }
   ],
   "source": [
    "# Convert the logits to probabilities using the softmax function\n",
    "probs = tf.nn.softmax(logits, axis=1)\n",
    "print(probs)"
   ]
  },
  {
   "cell_type": "markdown",
   "metadata": {
    "id": "mG82ogeO_pH2"
   },
   "source": [
    "The code in above cell gives the probability that each statement in Positive or negative. The first row tells us 2 probabilities, where first value in first row is the possibility of the given statement being a negative statement and second value in first row gives the probability that the given statement is positive. Same is done for second statement in second row."
   ]
  },
  {
   "cell_type": "markdown",
   "metadata": {
    "id": "wHjR1_rgkX3T"
   },
   "source": [
    "We can extract the predicted class labels as follows:"
   ]
  },
  {
   "cell_type": "code",
   "execution_count": null,
   "metadata": {
    "colab": {
     "base_uri": "https://localhost:8080/"
    },
    "id": "oRwI5dhmj6qv",
    "outputId": "a828e075-9dd5-4bde-c36b-350a011822d1"
   },
   "outputs": [
    {
     "name": "stdout",
     "output_type": "stream",
     "text": [
      "tf.Tensor([0 1], shape=(2,), dtype=int64)\n"
     ]
    }
   ],
   "source": [
    "# Get the predicted class labels by taking the argmax of the probabilities along axis 1\n",
    "predicted_labels = tf.argmax(probs, axis=1)\n",
    "print(predicted_labels)"
   ]
  },
  {
   "cell_type": "markdown",
   "metadata": {
    "id": "fRk1Orf6At6U"
   },
   "source": [
    "The code in above cell picks the higher probability for each statement. In row 1, the possibility is high for negative and in second row, the possibility is high for positive."
   ]
  },
  {
   "cell_type": "markdown",
   "metadata": {
    "id": "f8-MGIq5iUjo"
   },
   "source": [
    "To display the predicted label for each sentence, we can simply use the argmax function to get the index of the maximum probability in the probs tensor."
   ]
  },
  {
   "cell_type": "code",
   "execution_count": null,
   "metadata": {
    "colab": {
     "base_uri": "https://localhost:8080/"
    },
    "id": "YIk_V8YplMD8",
    "outputId": "adb9400a-74dd-4310-d4d4-7a70e46b0a1f"
   },
   "outputs": [
    {
     "name": "stdout",
     "output_type": "stream",
     "text": [
      "Sentence: I hate this movie\n",
      "Predicted Sentiment: Negative\n",
      "\n",
      "Sentence: This Course is helping me learn new and wonderful things.\n",
      "Predicted Sentiment: Positive\n",
      "\n"
     ]
    }
   ],
   "source": [
    "# Print the predicted labels for each sentence\n",
    "for i, sentence in enumerate(input_sentences):\n",
    "    label = \"Positive\" if predicted_labels[i] == 1 else \"Negative\"\n",
    "    print(f\"Sentence: {sentence}\\nPredicted Sentiment: {label}\\n\")"
   ]
  }
 ],
 "metadata": {
  "colab": {
   "collapsed_sections": [
    "I91YbP0pKJ27",
    "HOK_MxVgKJ28",
    "sLH6yupKKJ29"
   ],
   "provenance": []
  },
  "gpuClass": "standard",
  "kernelspec": {
   "display_name": "Python 3 (ipykernel)",
   "language": "python",
   "name": "python3"
  },
  "language_info": {
   "codemirror_mode": {
    "name": "ipython",
    "version": 3
   },
   "file_extension": ".py",
   "mimetype": "text/x-python",
   "name": "python",
   "nbconvert_exporter": "python",
   "pygments_lexer": "ipython3",
   "version": "3.11.5"
  },
  "vscode": {
   "interpreter": {
    "hash": "ad2bdc8ecc057115af97d19610ffacc2b4e99fae6737bb82f5d7fb13d2f2c186"
   }
  }
 },
 "nbformat": 4,
 "nbformat_minor": 1
}
